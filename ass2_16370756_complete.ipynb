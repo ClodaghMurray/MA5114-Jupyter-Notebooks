{
 "cells": [
  {
   "cell_type": "markdown",
   "metadata": {},
   "source": [
    "### M.Sc. Biomedical Genomics / MA5114 / Autumn 2021\n",
    "\n",
    "#### Assignment 2\n",
    "\n",
    "\n",
    "Sumbit your work via Blackboard as a copy of this `.ipynb` file with your answers in the following format file name: `assX_id.ipynb` (replace X with homework number and id with your ID number). For example, the submission of Assignment 2 for a student with ID number 201811451 is `ass2_201811451.ipynb`\n",
    "\n",
    "Each question carries equal marks. This assignment will make up 10% of the total marks for MA5114.\n"
   ]
  },
  {
   "cell_type": "markdown",
   "metadata": {},
   "source": [
    "#### 1) Bacteria growth\n",
    "\n",
    "The bacteria _F. nucleatum_ replicates every one hour, in a 100 ml tube, reaching the stationary phase when there are 1,000,000 or more bacteria in the tube, where they go into a steady-state population equilibrium.  \n",
    "  \n",
    "**a)** Write a program that will calculate the number of bacteria after one hour, two hours, etc, until stationarity is reached. The program will receive the starter size (number of bacteria to begin with), and start calculating from there. At each time point, the following message should be printed:  \n",
    "< time > hours: < no. of bacteria > bacteria"
   ]
  },
  {
   "cell_type": "code",
   "execution_count": 6,
   "metadata": {},
   "outputs": [
    {
     "name": "stdout",
     "output_type": "stream",
     "text": [
      "1 hours: 20 bacteria\n",
      "2 hours: 40 bacteria\n",
      "3 hours: 80 bacteria\n",
      "4 hours: 160 bacteria\n",
      "5 hours: 320 bacteria\n",
      "6 hours: 640 bacteria\n",
      "7 hours: 1280 bacteria\n",
      "8 hours: 2560 bacteria\n",
      "9 hours: 5120 bacteria\n",
      "10 hours: 10240 bacteria\n",
      "11 hours: 20480 bacteria\n",
      "12 hours: 40960 bacteria\n",
      "13 hours: 81920 bacteria\n",
      "14 hours: 163840 bacteria\n",
      "15 hours: 327680 bacteria\n",
      "16 hours: 655360 bacteria\n",
      "17 hours: 1310720 bacteria\n"
     ]
    }
   ],
   "source": [
    "starter = 10 # Replace with a value of your choice.\n",
    "bacteria = starter\n",
    "time = 0\n",
    "\n",
    "while bacteria <= 1000000:\n",
    "    bacteria = bacteria*2\n",
    "    time = time +1 \n",
    "    print(time, 'hours:', bacteria, 'bacteria')\n",
    "    "
   ]
  },
  {
   "cell_type": "markdown",
   "metadata": {},
   "source": [
    "**b)** It turns out that the growth rate of _F. nucleatum_ is affected by temperature. Its replication time $r$, is a function of the temperature $T$, so that:  \n",
    "\n",
    "$r = \\frac{19 T (T - 70)}{2450} + 10$  \n",
    "\n",
    "However, when the temperature is below 5, or over 50, the bacteria don't grow at all.  \n",
    "\n",
    "Write a program that will receive the starter size __and__ the growth temperature, and will calculate the time to reach stationarity, printing the number of bacteria at each time point (like in part a). If bacteria can't grow, print an appropriate message (and don't do any calculation)."
   ]
  },
  {
   "cell_type": "code",
   "execution_count": 17,
   "metadata": {},
   "outputs": [
    {
     "name": "stdout",
     "output_type": "stream",
     "text": [
      "0.9963265306122455 hours: 20 bacteria\n",
      "1.9963265306122455 hours: 40 bacteria\n",
      "2.9963265306122455 hours: 80 bacteria\n",
      "3.9963265306122455 hours: 160 bacteria\n",
      "4.9963265306122455 hours: 320 bacteria\n",
      "5.9963265306122455 hours: 640 bacteria\n",
      "6.9963265306122455 hours: 1280 bacteria\n",
      "7.9963265306122455 hours: 2560 bacteria\n",
      "8.996326530612246 hours: 5120 bacteria\n",
      "9.996326530612246 hours: 10240 bacteria\n",
      "10.996326530612246 hours: 20480 bacteria\n",
      "11.996326530612246 hours: 40960 bacteria\n",
      "12.996326530612246 hours: 81920 bacteria\n",
      "13.996326530612246 hours: 163840 bacteria\n",
      "14.996326530612246 hours: 327680 bacteria\n",
      "15.996326530612246 hours: 655360 bacteria\n",
      "16.996326530612244 hours: 1310720 bacteria\n"
     ]
    }
   ],
   "source": [
    "starter = 10 # Replace with a value of your choice.\n",
    "bacteria = starter\n",
    "temp = 43 # Replace with a value of your choice.\n",
    "time = (19 * temp )*(( temp-70 )/2450) + 10\n",
    "\n",
    "# check temperature and calculate replication time\n",
    "\n",
    "if temp >= 5 and temp <= 50:\n",
    "    while bacteria <= 1000000:\n",
    "        bacteria = bacteria*2\n",
    "        print(time, 'hours:', bacteria, 'bacteria')\n",
    "        time = time +1\n",
    "else:\n",
    "    print('Cannot Grow')"
   ]
  },
  {
   "cell_type": "markdown",
   "metadata": {},
   "source": [
    "#### 2) Splicing out introns\n",
    "\n",
    "**a)** \n",
    "Here’s a short section of genomic DNA:\n",
    "\n",
    "```\n",
    "ATCGATCGATCGATCGACTGACTAGTCATAGCTATGCAT\n",
    "GTAGCTACTCGATCGATCGATCGATCGATCGATCGATCG\n",
    "ATCGATCATGCTATCATCGATCGATATCGATGCATCGAC\n",
    "TACTAT\n",
    "```\n",
    "\n",
    "It comprises two exons and an intron. The first exon runs from the start of the sequence to the fifty-ninth character, and the second exon runs from the eighty-ninth character to the end of the sequence. \n",
    "\n",
    "Write a program that will print just the coding regions of the DNA sequence."
   ]
  },
  {
   "cell_type": "code",
   "execution_count": 35,
   "metadata": {},
   "outputs": [
    {
     "name": "stdout",
     "output_type": "stream",
     "text": [
      "ATCGATCGATCGATCGACTGACTAGTCATAGCTATGCATGTAGCTACTCGATCGATCGCTATCATCGATCGATATCGATGCATCGACTACTAT\n"
     ]
    }
   ],
   "source": [
    "seq = 'ATCGATCGATCGATCGACTGACTAGTCATAGCTATGCATGTAGCTACTCGATCGATCGATCGATCGATCGATCGATCGATCGATCATGCTATCATCGATCGATATCGATGCATCGACTACTAT'\n",
    "seqnew = seq[:58] + seq[88:]\n",
    "print(seqnew)"
   ]
  },
  {
   "cell_type": "markdown",
   "metadata": {},
   "source": [
    "**b)** \n",
    "Using the sequence from **a)**, write a program that will calculate what percentage of the DNA sequence is coding."
   ]
  },
  {
   "cell_type": "code",
   "execution_count": 23,
   "metadata": {},
   "outputs": [
    {
     "name": "stdout",
     "output_type": "stream",
     "text": [
      "Percentage of the DNA sequence is coding:  75.61 %\n"
     ]
    }
   ],
   "source": [
    "seq_len = len(seqnew)/len(seq)*100\n",
    "print('Percentage of the DNA sequence is coding: ', round(seq_len,3),'%')"
   ]
  },
  {
   "cell_type": "markdown",
   "metadata": {},
   "source": [
    "**c)**\n",
    "Using the sequence from **a)**, write a program that will print out the original genomic DNA sequence with coding bases in uppercase and non-coding bases in lowercase."
   ]
  },
  {
   "cell_type": "code",
   "execution_count": 34,
   "metadata": {},
   "outputs": [
    {
     "name": "stdout",
     "output_type": "stream",
     "text": [
      "ATCGATCGATCGATCGACTGACTAGTCATAGCTATGCATGTAGCTACTCGATCGATCGatcgatcgatcgatcgatcgatcgatcatgCTATCATCGATCGATATCGATGCATCGACTACTAT\n"
     ]
    }
   ],
   "source": [
    "seq_intron = seq[58:88].lower()\n",
    "int_ex = seq.replace(seq[58:88], seq_intron)\n",
    "print(int_ex)"
   ]
  },
  {
   "cell_type": "markdown",
   "metadata": {},
   "source": [
    "#### 3) Processing DNA\n",
    "\n",
    "The list `sequences` below contains a number of DNA sequences as strings. Each sequence starts with the same 14 base pair fragment – a sequencing adapter that should have been removed. \n",
    "\n",
    "Write a program that will trim this adapter and print the cleaned sequences to the screen. The program will then print the length of each cleaned sequence to the screen."
   ]
  },
  {
   "cell_type": "code",
   "execution_count": 18,
   "metadata": {},
   "outputs": [
    {
     "name": "stdout",
     "output_type": "stream",
     "text": [
      "TCGATCGATCGATCGATCGATCGATCGATCGATCGATCGATC\n",
      "Length: 42\n",
      "ACTGATCGATCGATCGATCGATCGATGCTATCGTCGT\n",
      "Length: 37\n",
      "ATCGATCACGATCTATCGTACGTATGCATATCGATATCGATCGTAGTC\n",
      "Length: 48\n",
      "ACTATCGATGATCTAGCTACGATCGTAGCTGTA\n",
      "Length: 33\n",
      "ACTAGCTAGTCTCGATGCATGATCAGCTTAGCTGATGATGCTATGCA\n",
      "Length: 47\n"
     ]
    }
   ],
   "source": [
    "sequences = ['ATTCGATTATAAGCTCGATCGATCGATCGATCGATCGATCGATCGATCGATCGATC', \\\n",
    "'ATTCGATTATAAGCACTGATCGATCGATCGATCGATCGATGCTATCGTCGT', \\\n",
    "'ATTCGATTATAAGCATCGATCACGATCTATCGTACGTATGCATATCGATATCGATCGTAGTC', \\\n",
    "'ATTCGATTATAAGCACTATCGATGATCTAGCTACGATCGTAGCTGTA', \\\n",
    "'ATTCGATTATAAGCACTAGCTAGTCTCGATGCATGATCAGCTTAGCTGATGATGCTATGCA']\n",
    "\n",
    "for i in range(len(sequences)):\n",
    "    sequences[i] = sequences[i][14:]\n",
    "    print(sequences[i])\n",
    "    print('Length:', len(sequences[i]))\n"
   ]
  },
  {
   "cell_type": "markdown",
   "metadata": {},
   "source": [
    "#### 4) Multiple exons from genomic DNA\n",
    "\n",
    "The string `genomic_dna` below contains a section of genomic DNA.\n",
    "\n",
    "The list `exons` contains start/stop positions of exons as string indices. \n",
    "Each exon is a separate list (within the list of exons) with two elements: the start and stop positions. \n",
    "\n",
    "Write a program that will extract the exon segments from `genomic_dna` using the positions in `exons`, concatenate them, and print them to the screen."
   ]
  },
  {
   "cell_type": "code",
   "execution_count": 24,
   "metadata": {},
   "outputs": [
    {
     "name": "stdout",
     "output_type": "stream",
     "text": [
      "TCGTACCGTCGACGATGCTACGATCGTCGATCGTAGTCGATCATCGATCGATCGATCGATCGATATCGATCGATATCATCGATGCATCGATCATCGATCGATCGATCGATCGGATCGATCGATCGTAGCTAGCTAGCTAGATCGATCATCATCGTAGCTAGCTCGACTAGCTACGTACGATCGATGCATCGATATCGATCGATCGATCGATCGATCGATCGATCGATCGATCGTAGCTAGCTACGATC\n"
     ]
    }
   ],
   "source": [
    "genomic_dna = 'TCGATCGTACCGTCGACGATGCTACGATCGTCGATCGTAGTCGATCATCGATCGATCGACTGATCGATCGATCGATCGATCGATATCGATCGATATCATCGATGCATCGATCATCGATCGATCGATCGATCGATCGATCATATGTCAGTCGATGCATCGTAGCATCGTATAGTAGCTACGTAGCTACGATCGATCGATCGATCGTAGCTAGCTAGCTAGATCGATCATCATCGTAGCTAGCTCGACTAGCTACGTACGATCGATGCATCGATCGTAGCTAGTACGATCGCGTAGCTAGCATGCTACGTAGATCGATCGATGCATGCTAGCTAGCTAGCTACGATCGATCGATCGATCGATCGATCGATCGATCGATCGATCGTAGCTAGCTACGATCGATGCTACGTAGATCGATCGCTAGTAGATCGATCGCTAGCTAGCTGACTAGTACGCTGCTAGTAGTCAGCTAGATCGATGCTAGTCA'\n",
    "exons = [[4, 57], [73, 132], [191, 272], [342, 397]] # [[start, stop], [start, stop], ...]\n",
    "\n",
    "segments = ''\n",
    "\n",
    "for i in range(len(exons)):\n",
    "    seg = genomic_dna[exons[i][0]:exons[i][1]]\n",
    "    segments += seg\n",
    "\n",
    "print(segments)\n",
    "\n",
    "#segments1 = genomic_dna[exons[0][0]:exons[0][1]]\n",
    "#segments2 = genomic_dna[exons[1][0]:exons[1][1]]\n",
    "#segments3 = genomic_dna[exons[2][0]:exons[2][1]]\n",
    "#segments4 = genomic_dna[exons[3][0]:exons[3][1]]\n",
    "\n",
    "#exons = segments1 + segments2 + segments3 + segments4\n",
    "\n",
    "#print(len(exons))\n",
    "\n"
   ]
  },
  {
   "cell_type": "markdown",
   "metadata": {},
   "source": [
    "#### 5) Drosophila gene expression experiment\n",
    "\n",
    "A set of experiments is conducted using RNA-seq for genes involved in the development of the eye using several species of the common fruit-fly, of which *Drosophila melanogaster* is the best known model organism. The following subset has been extracted and has been placed below in the *list* variable `data` below. Each entry consists of the species name, a DNA sequence corresponding to the first exon, the gene name and expression level measured. \n",
    "\n",
    "Write a program that will (i) print out the gene names belonging to  `Drosophila_melanogaster`, (ii) print out the gene names for all genes between 90 and 110 bp long, (iii) print out the gene names for all genes whose GC content is less that 50% and whose expression level is greater than 210, and (iv) print out the gene names whose name begins with a \"k\" or \"h\" except those belonging to `Drosophila_ananassae`.\n",
    "\n",
    "*tips*\n",
    " - you may find using a function for the GC percentage calculation a useful strategy\n"
   ]
  },
  {
   "cell_type": "code",
   "execution_count": 34,
   "metadata": {},
   "outputs": [
    {
     "name": "stdout",
     "output_type": "stream",
     "text": [
      "[['Drosophila_melanogaster', 'atatatatatcgcgtatatatacgactatatgcattaattatagcatatcgatatatatatcgatattatatcgcattatacgcgcgtaattatatcgcgtaattacga', 'kdy647', '264'], ['Drosophila_melanogaster', 'actgtgacgtgtactgtacgactatcgatacgtagtactgatcgctactgtaatgcatccatgctgacgtatctaagt', 'jdg766', '185'], ['Drosophila_simulans', 'atcgatcatgtcgatcgatgatgcatccgactatcgtcgatcgtgatcgatcgatcgatcatcgatcgatgtcgatcatgtcgatatcgt', 'kdy533', '485'], ['Drosophila_yakuba', 'cgcgcgctcgcgcatacggcctaatgcgcgcgctagcgatgc', 'hdt739', '85'], ['Drosophila_ananassae', 'ttacgatcgatcgatcgatcgatcgtcgatcgtcgatgctacatcgatcatcatcggattagtcacatcgatcgatcatcgactgatcgtcgatcgtagatgctgacatcgatagca', 'hdu045', '356'], ['Drosophila_ananassae', 'gcatcgatcgatcgcggcgcatcgatcgcgatcatcgatcatacgcgtcatatctatacgtcactgccgcgcgtatctacgcgatgactagctagact', 'teg436', '222']]\n",
      "These are the flies:  kdy647\n",
      "These are the flies:  jdg766\n",
      "These are between 90 and 110 bp long:  kdy647\n",
      "These are between 90 and 110 bp long:  kdy533\n",
      "These are between 90 and 110 bp long:  teg436\n",
      "Genes with low CG content and high gene expression:  kdy647\n",
      "Genes with low CG content and high gene expression:  kdy533\n",
      "Genes with low CG content and high gene expression:  hdu045\n",
      "Names beginning with k or h:  kdy647\n",
      "Names beginning with k or h:  kdy533\n",
      "Names beginning with k or h:  hdt739\n"
     ]
    }
   ],
   "source": [
    "data = ['Drosophila_melanogaster,atatatatatcgcgtatatatacgactatatgcattaattatagcatatcgatatatatatcgatattatatcgcattatacgcgcgtaattatatcgcgtaattacga,kdy647,264',\n",
    "'Drosophila_melanogaster,actgtgacgtgtactgtacgactatcgatacgtagtactgatcgctactgtaatgcatccatgctgacgtatctaagt,jdg766,185',\n",
    "'Drosophila_simulans,atcgatcatgtcgatcgatgatgcatccgactatcgtcgatcgtgatcgatcgatcgatcatcgatcgatgtcgatcatgtcgatatcgt,kdy533,485',\n",
    "'Drosophila_yakuba,cgcgcgctcgcgcatacggcctaatgcgcgcgctagcgatgc,hdt739,85',\n",
    "'Drosophila_ananassae,ttacgatcgatcgatcgatcgatcgtcgatcgtcgatgctacatcgatcatcatcggattagtcacatcgatcgatcatcgactgatcgtcgatcgtagatgctgacatcgatagca,hdu045,356',\n",
    "'Drosophila_ananassae,gcatcgatcgatcgcggcgcatcgatcgcgatcatcgatcatacgcgtcatatctatacgtcactgccgcgcgtatctacgcgatgactagctagact,teg436,222']\n",
    "\n",
    "# print out the gene names belonging to Drosophila_melanogaster, \n",
    "# print out the gene names for all genes between 90 and 110 bp long, \n",
    "# print out the gene names for all genes whose GC content is less that 50% and whose expression level is greater than 210, and \n",
    "# print out the gene names whose name begins with a \"k\" or \"h\" except those belonging to Drosophila_ananassae.\n",
    "\n",
    "\n",
    "newdata2 = data\n",
    "\n",
    "for i in range(len(newdata2)):\n",
    "    newdata2[i] = newdata2[i].split(',')\n",
    "print(newdata2)\n",
    "\n",
    "for i in range(len(newdata2)):\n",
    "    if newdata2[i][0] == 'Drosophila_melanogaster':\n",
    "        print('These are the flies: ',newdata2[i][2])\n",
    "        \n",
    "for i in range(len(newdata2)):  \n",
    "    if len(newdata2[i][1]) >= 90 and len(newdata2[i][1]) <= 110:\n",
    "        print('These are between 90 and 110 bp long: ', newdata2[i][2])\n",
    "\n",
    "for i in range(len(newdata2)):  \n",
    "    if ((newdata2[i][1].count('g') + newdata2[i][1].count('c'))/len(newdata2[i][1])*100) < 50 and int(newdata2[i][3]) > 210:\n",
    "        print('Genes with low CG content and high gene expression: ', newdata2[i][2])\n",
    "\n",
    "for i in range(len(newdata2)):\n",
    "    if newdata2[i][0] != 'Drosophila_ananassae' and (newdata2[i][2][0] == 'k' or newdata2[i][2][0] == 'h'):\n",
    "        print('Names beginning with k or h: ',newdata2[i][2])\n",
    "    "
   ]
  },
  {
   "cell_type": "code",
   "execution_count": null,
   "metadata": {},
   "outputs": [],
   "source": []
  }
 ],
 "metadata": {
  "kernelspec": {
   "display_name": "Python 3 (ipykernel)",
   "language": "python",
   "name": "python3"
  },
  "language_info": {
   "codemirror_mode": {
    "name": "ipython",
    "version": 3
   },
   "file_extension": ".py",
   "mimetype": "text/x-python",
   "name": "python",
   "nbconvert_exporter": "python",
   "pygments_lexer": "ipython3",
   "version": "3.8.8"
  }
 },
 "nbformat": 4,
 "nbformat_minor": 2
}
