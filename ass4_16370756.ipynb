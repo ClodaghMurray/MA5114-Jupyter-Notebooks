{
 "cells": [
  {
   "cell_type": "markdown",
   "id": "62e50f95",
   "metadata": {},
   "source": [
    "# Assignment 4 - Programming for Biology"
   ]
  },
  {
   "cell_type": "markdown",
   "id": "d81b06c2",
   "metadata": {},
   "source": [
    "## Hereditary hemochromatosis\n",
    "####  HFE gene is known to play a dominant role, most patients are homozygous for the C282Y - point mutation from G to A at nucleotide 845 in the gene's coding sequence disrupts correct formation of the HFE protein"
   ]
  },
  {
   "cell_type": "markdown",
   "id": "9de13321",
   "metadata": {},
   "source": [
    "Reference gene in Genbank = NG_008720 "
   ]
  },
  {
   "cell_type": "code",
   "execution_count": 3,
   "id": "ed1759d7",
   "metadata": {},
   "outputs": [
    {
     "name": "stdout",
     "output_type": "stream",
     "text": [
      "Requirement already satisfied: BioPython in /home/clodagh/.local/lib/python3.8/site-packages (1.79)\r\n",
      "Requirement already satisfied: numpy in /home/clodagh/.local/lib/python3.8/site-packages (from BioPython) (1.21.4)\r\n"
     ]
    }
   ],
   "source": [
    "!pip install BioPython\n",
    "import Bio\n",
    "from Bio import Seq"
   ]
  },
  {
   "cell_type": "markdown",
   "id": "d560c69d",
   "metadata": {},
   "source": [
    "## Question 1\n",
    "\n",
    "Download the SeqRecord for this accession.\n",
    "\n",
    "(hint: recall we can supply a GenBank accession code as an id parameter value for the efetch function from the Entrez module to retrieve information associated with the entry corresponding to the accession code)"
   ]
  },
  {
   "cell_type": "code",
   "execution_count": 363,
   "id": "2dbc84e7",
   "metadata": {},
   "outputs": [
    {
     "name": "stdout",
     "output_type": "stream",
     "text": [
      "<class 'Bio.SeqRecord.SeqRecord'>\n"
     ]
    }
   ],
   "source": [
    "from Bio import Entrez\n",
    "from Bio import SeqIO\n",
    "\n",
    "try:\n",
    "    Entrez.email = \"A.N.Other@example.com\"   #Note: if you don't specify an email address for this session, a warning will be generated\n",
    "    handle = Entrez.efetch(db=\"nucleotide\", rettype=\"gb\", retmode=\"text\", id=\"NG_008720\")\n",
    "    HFE_gene = SeqIO.read(handle, \"gb\")\n",
    "    handle.close()\n",
    "    print(type(HFE_gene))\n",
    "except:\n",
    "    print('Failed to fetch record.')"
   ]
  },
  {
   "cell_type": "markdown",
   "id": "372589f4",
   "metadata": {},
   "source": [
    "## Question 2\n",
    "\n",
    "Extract the coding sequence (CDS) for the HFE gene from the GenBank record (that is the concantenated exon sequences that are provided in the GenBank record ."
   ]
  },
  {
   "cell_type": "code",
   "execution_count": 364,
   "id": "8d452093",
   "metadata": {},
   "outputs": [
    {
     "name": "stdout",
     "output_type": "stream",
     "text": [
      "join{[5160:5236](+), [8560:8824](+), [9033:9309](+), [10404:10680](+), [10838:10952](+), [11905:11946](+)}\n"
     ]
    }
   ],
   "source": [
    "for key in HFE_gene.features:\n",
    "    if key.type == \"CDS\":\n",
    "        print(key.location)"
   ]
  },
  {
   "cell_type": "code",
   "execution_count": 386,
   "id": "98a7d0d5",
   "metadata": {},
   "outputs": [
    {
     "name": "stdout",
     "output_type": "stream",
     "text": [
      "ATGGGCCCGCGAGCCAGGCCGGCGCTTCTCCTCCTGATGCTTTTGCAGACCGCGGTCCTGCAGGGGCGCTTGCTGCGTTCACACTCTCTGCACTACCTCTTCATGGGTGCCTCAGAGCAGGACCTTGGTCTTTCCTTGTTTGAAGCTTTGGGCTACGTGGATGACCAGCTGTTCGTGTTCTATGATCATGAGAGTCGCCGTGTGGAGCCCCGAACTCCATGGGTTTCCAGTAGAATTTCAAGCCAGATGTGGCTGCAGCTGAGTCAGAGTCTGAAAGGGTGGGATCACATGTTCACTGTTGACTTCTGGACTATTATGGAAAATCACAACCACAGCAAGGAGTCCCACACCCTGCAGGTCATCCTGGGCTGTGAAATGCAAGAAGACAACAGTACCGAGGGCTACTGGAAGTACGGGTATGATGGGCAGGACCACCTTGAATTCTGCCCTGACACACTGGATTGGAGAGCAGCAGAACCCAGGGCCTGGCCCACCAAGCTGGAGTGGGAAAGGCACAAGATTCGGGCCAGGCAGAACAGGGCCTACCTGGAGAGGGACTGCCCTGCACAGCTGCAGCAGTTGCTGGAGCTGGGGAGAGGTGTTTTGGACCAACAAGTGCCTCCTTTGGTGAAGGTGACACATCATGTGACCTCTTCAGTGACCACTCTACGGTGTCGGGCCTTGAACTACTACCCCCAGAACATCACCATGAAGTGGCTGAAGGATAAGCAGCCAATGGATGCCAAGGAGTTCGAACCTAAAGACGTATTGCCCAATGGGGATGGGACCTACCAGGGCTGGATAACCTTGGCTGTACCCCCTGGGGAAGAGCAGAGATATACGTGCCAGGTGGAGCACCCAGGCCTGGATCAGCCCCTCATTGTGATCTGGGAGCCCTCACCGTCTGGCACCCTAGTCATTGGAGTCATCAGTGGAATTGCTGTTTTTGTCGTCATCTTGTTCATTGGAATTTTGTTCATAATATTAAGGAAGAGGCAGGGTTCAAGAGGAGCCATGGGGCACTACGTCTTAGCTGAACGTGAGTGA\n"
     ]
    }
   ],
   "source": [
    "Exon1 = HFE_gene.seq[5160:5236]\n",
    "Exon2 = HFE_gene.seq[8560:8824]\n",
    "Exon3 = HFE_gene.seq[9033:9309]\n",
    "Exon4 = HFE_gene.seq[10404:10680]\n",
    "Exon5 = HFE_gene.seq[10838:10952]\n",
    "Exon6 = HFE_gene.seq[11905:11946]\n",
    "\n",
    "HFE_CDS = Exon1 + Exon2 + Exon3 +Exon4 + Exon5 + Exon6\n",
    "\n",
    "print((HFE_CDS))"
   ]
  },
  {
   "cell_type": "markdown",
   "id": "da3b1c79",
   "metadata": {},
   "source": [
    "## Question 3\n",
    "Use the .translate() method to create the amino acid sequence from your determined full sequence and compare your estimate with the amino acid sequence available in the GenBank record"
   ]
  },
  {
   "cell_type": "code",
   "execution_count": 387,
   "id": "2628002f",
   "metadata": {},
   "outputs": [
    {
     "name": "stdout",
     "output_type": "stream",
     "text": [
      "['MGPRARPALLLLMLLQTAVLQGRLLRSHSLHYLFMGASEQDLGLSLFEALGYVDDQLFVFYDHESRRVEPRTPWVSSRISSQMWLQLSQSLKGWDHMFTVDFWTIMENHNHSKESHTLQVILGCEMQEDNSTEGYWKYGYDGQDHLEFCPDTLDWRAAEPRAWPTKLEWERHKIRARQNRAYLERDCPAQLQQLLELGRGVLDQQVPPLVKVTHHVTSSVTTLRCRALNYYPQNITMKWLKDKQPMDAKEFEPKDVLPNGDGTYQGWITLAVPPGEEQRYTCQVEHPGLDQPLIVIWEPSPSGTLVIGVISGIAVFVVILFIGILFIILRKRQGSRGAMGHYVLAERE']\n"
     ]
    }
   ],
   "source": [
    "for key in HFE_gene.features:\n",
    "    if key.type == \"CDS\":\n",
    "        for x in key.qualifiers:\n",
    "            if x == \"translation\":\n",
    "                trans = str(key.qualifiers[x])\n",
    "                print(trans)"
   ]
  },
  {
   "cell_type": "code",
   "execution_count": 393,
   "id": "d6e28925",
   "metadata": {},
   "outputs": [
    {
     "data": {
      "text/plain": [
       "True"
      ]
     },
     "execution_count": 393,
     "metadata": {},
     "output_type": "execute_result"
    }
   ],
   "source": [
    "translation = HFE_CDS.translate()\n",
    "\n",
    "trans = \"MGPRARPALLLLMLLQTAVLQGRLLRSHSLHYLFMGASEQDLGLSLFEALGYVDDQLFVFYDHESRRVEPRTPWVSSRISSQMWLQLSQSLKGWDHMFTVDFWTIMENHNHSKESHTLQVILGCEMQEDNSTEGYWKYGYDGQDHLEFCPDTLDWRAAEPRAWPTKLEWERHKIRARQNRAYLERDCPAQLQQLLELGRGVLDQQVPPLVKVTHHVTSSVTTLRCRALNYYPQNITMKWLKDKQPMDAKEFEPKDVLPNGDGTYQGWITLAVPPGEEQRYTCQVEHPGLDQPLIVIWEPSPSGTLVIGVISGIAVFVVILFIGILFIILRKRQGSRGAMGHYVLAERE\"\n",
    "translation[:-1] == trans"
   ]
  },
  {
   "cell_type": "markdown",
   "id": "6a0be4ed",
   "metadata": {},
   "source": [
    "## Question 4\n",
    "Use this coding sequence to determine what the status is of this locus in this reference gene record for HEF (i.e. what is the nucleotide value at position 845 in HEF's coding sequence)."
   ]
  },
  {
   "cell_type": "code",
   "execution_count": 394,
   "id": "12b8e544",
   "metadata": {},
   "outputs": [
    {
     "name": "stdout",
     "output_type": "stream",
     "text": [
      "Nucleotide value at position 845 in HEF: G\n"
     ]
    }
   ],
   "source": [
    "print('Nucleotide value at position 845 in HEF:',HFE_CDS[844])"
   ]
  },
  {
   "cell_type": "markdown",
   "id": "9e3099a0",
   "metadata": {},
   "source": [
    "## Question 5\n",
    "Determine which of the exons associated with the HEF gene contains the C282Y locus (i.e. is the first, second?).\n",
    "\n",
    "(hint: you'll need to modify the code you used in 1. previously to extract the individual exons, and to simply add them together until the length exceeds the position of the C282Y locus)"
   ]
  },
  {
   "cell_type": "code",
   "execution_count": 172,
   "id": "c0204d46",
   "metadata": {},
   "outputs": [
    {
     "name": "stdout",
     "output_type": "stream",
     "text": [
      "join{[5160:5236](+), [8560:8824](+), [9033:9309](+), [10404:10680](+), [10838:10952](+), [11905:11946](+)}\n"
     ]
    }
   ],
   "source": [
    "for key in HFE_gene.features:\n",
    "    if key.type == \"CDS\":\n",
    "        exon_loc = key.location\n",
    "        print(exon_loc)"
   ]
  },
  {
   "cell_type": "code",
   "execution_count": 180,
   "id": "0fd3c85f",
   "metadata": {},
   "outputs": [],
   "source": [
    "a = 5236-5160\n"
   ]
  },
  {
   "cell_type": "code",
   "execution_count": 181,
   "id": "87d90e47",
   "metadata": {},
   "outputs": [
    {
     "data": {
      "text/plain": [
       "340"
      ]
     },
     "execution_count": 181,
     "metadata": {},
     "output_type": "execute_result"
    }
   ],
   "source": [
    "b = 8824-8560\n",
    "a+b "
   ]
  },
  {
   "cell_type": "code",
   "execution_count": 183,
   "id": "3c2bc1c2",
   "metadata": {},
   "outputs": [
    {
     "data": {
      "text/plain": [
       "616"
      ]
     },
     "execution_count": 183,
     "metadata": {},
     "output_type": "execute_result"
    }
   ],
   "source": [
    "c = 9309-9033\n",
    "a+b+c"
   ]
  },
  {
   "cell_type": "code",
   "execution_count": 186,
   "id": "7d7f7f2a",
   "metadata": {},
   "outputs": [
    {
     "data": {
      "text/plain": [
       "892"
      ]
     },
     "execution_count": 186,
     "metadata": {},
     "output_type": "execute_result"
    }
   ],
   "source": [
    "d = 10680-10404\n",
    "a+b+c+d"
   ]
  },
  {
   "cell_type": "markdown",
   "id": "7a39cb4b",
   "metadata": {},
   "source": [
    "### Attempting the loop"
   ]
  },
  {
   "cell_type": "code",
   "execution_count": 430,
   "id": "d214a76e",
   "metadata": {},
   "outputs": [
    {
     "name": "stdout",
     "output_type": "stream",
     "text": [
      "[8560:8824](+)\n"
     ]
    }
   ],
   "source": [
    "for key in HFE_gene.features:\n",
    "    if key.type == \"CDS\":\n",
    "        print(key.location.parts[1])"
   ]
  },
  {
   "cell_type": "code",
   "execution_count": 433,
   "id": "efca10b6",
   "metadata": {},
   "outputs": [
    {
     "name": "stdout",
     "output_type": "stream",
     "text": [
      "892\n",
      "Exon number 4 contains the C282Y locus\n"
     ]
    }
   ],
   "source": [
    "for key in HFE_gene.features:\n",
    "    \n",
    "    if key.type == \"CDS\":\n",
    "        len = 0\n",
    "        i=0\n",
    "        while key.location.parts:\n",
    "            len = len + (key.location.parts[i].end - key.location.parts[i].start)\n",
    "            i = i+1\n",
    "            if len > 844:\n",
    "                print(len)\n",
    "                print('Exon number', str(i), 'contains the C282Y locus')\n",
    "                break\n",
    "        "
   ]
  },
  {
   "cell_type": "markdown",
   "id": "2a0147f2",
   "metadata": {},
   "source": [
    "Exon 4 of the HEF gene contains the C282Y locus"
   ]
  },
  {
   "cell_type": "markdown",
   "id": "cf277e6d",
   "metadata": {},
   "source": [
    "##  Question 6\n",
    "Disease variants can be identified is via PCR–RFLP. It is based on endonuclease cleavage using a restriction enzyme. \n",
    "Using the CDS sequence create two (amplicon) sequences of length 100 bases centered on the C282Y nucleotide location, with one having the 'G' variant and the other the disease 'A' variant. For this final question you are to take both 'amplicon' sequences and to determine if any of the following restriction enzymes would be suitable for such a test (where the '/' character corresponds to where the cleaving occurs in the DNA:\n",
    "\n",
    "    HinfI (G/ANTC)\n",
    "\n",
    "    RsaI (GT/AC)\n",
    "\n",
    "    EcoRI (G/AATTC) "
   ]
  },
  {
   "cell_type": "code",
   "execution_count": 219,
   "id": "1a8a0fd1",
   "metadata": {},
   "outputs": [],
   "source": [
    "from Bio.Seq import MutableSeq\n",
    "\n",
    "mutable_seq = MutableSeq(HFE_CDS)\n",
    "\n",
    "mutable_seq[844] = \"A\"\n"
   ]
  },
  {
   "cell_type": "code",
   "execution_count": 218,
   "id": "1d99c0e9",
   "metadata": {},
   "outputs": [
    {
     "name": "stdout",
     "output_type": "stream",
     "text": [
      "GGGCTGGATAACCTTGGCTGTACCCCCTGGGGAAGAGCAGAGATATACGTGCCAGGTGGAGCACCCAGGCCTGGATCAGCCCCTCATTGTGATCTGGGAG\n",
      "GGGCTGGATAACCTTGGCTGTACCCCCTGGGGAAGAGCAGAGATATACGTACCAGGTGGAGCACCCAGGCCTGGATCAGCCCCTCATTGTGATCTGGGAG\n"
     ]
    }
   ],
   "source": [
    "amplicon1 = HFE_CDS[844-50:844+50]\n",
    "print(amplicon1)\n",
    "amplicon2= mutable_seq[844-50:844+50]\n",
    "print(amplicon2)"
   ]
  },
  {
   "cell_type": "code",
   "execution_count": 314,
   "id": "ba452d8b",
   "metadata": {},
   "outputs": [
    {
     "name": "stdout",
     "output_type": "stream",
     "text": [
      "Amplicon1 restriction sites\n",
      "EcorI restriction sites found: None\n",
      "RsaI restriction sites found: ['GTAC']\n",
      "HinfI restriction sites found: None\n",
      "----------------------------------\n",
      "Amplicon2 restriction sites\n",
      "EcorI restriction sites found: None\n",
      "RsaI restriction sites found: ['GTAC', 'GTAC']\n",
      "HinfI restriction sites found: None\n"
     ]
    }
   ],
   "source": [
    "import re\n",
    "\n",
    "EcoRI_regex = re.compile(r'CGAATTC')\n",
    "RsaI_regex = re.compile(r'GTAC')\n",
    "HinfI_regex = re.compile(r'CAATTC')\n",
    "\n",
    "amp1 = str(amplicon1)\n",
    "amp2 = str(amplicon2)\n",
    "\n",
    "print('Amplicon1 restriction sites')\n",
    "print('EcorI restriction sites found:', re.search(EcoRI_regex, amp1))\n",
    "print('RsaI restriction sites found:', re.findall(RsaI_regex, amp1))\n",
    "print('HinfI restriction sites found:',re.search(HinfI_regex, amp1))\n",
    "\n",
    "print('----------------------------------')\n",
    "print('Amplicon2 restriction sites')\n",
    "print('EcorI restriction sites found:', re.search(EcoRI_regex, amp2))\n",
    "print('RsaI restriction sites found:', re.findall(RsaI_regex, amp2))\n",
    "print('HinfI restriction sites found:',re.search(HinfI_regex, amp2))"
   ]
  },
  {
   "cell_type": "code",
   "execution_count": 305,
   "id": "8b130305",
   "metadata": {},
   "outputs": [
    {
     "name": "stdout",
     "output_type": "stream",
     "text": [
      "Amplicon 1\n",
      "Restriction site found from:19 to 23\n",
      "Amplicon 2\n",
      "Restriction site found from:19 to 23\n",
      "Restriction site found from:48 to 52\n"
     ]
    }
   ],
   "source": [
    "m = re.finditer(RsaI_regex, amp1)\n",
    "n = re.finditer(RsaI_regex, amp2)\n",
    "\n",
    "print('Amplicon 1')\n",
    "for match in m: # here we can loop over its contents\n",
    "    run_start = match.start() # RE values from runs - start and end stored in there\n",
    "    run_end = match.end()\n",
    "    print('Restriction site found from:' + str(run_start) + \" to \"  \n",
    "       + str(run_end))\n",
    "\n",
    "print('Amplicon 2')\n",
    "for match in n: # here we can loop over its contents\n",
    "    run_start = match.start(0) # RE values from runs - start and end stored in there\n",
    "    run_end = match.end(0)\n",
    "    print('Restriction site found from:' + str(run_start) + \" to \"  \n",
    "       + str(run_end))\n"
   ]
  },
  {
   "cell_type": "code",
   "execution_count": 331,
   "id": "2f2181d3",
   "metadata": {},
   "outputs": [],
   "source": [
    "from Bio import Restriction\n",
    "from Bio.Restriction import *\n",
    "from Bio.Seq import Seq\n",
    "\n",
    "rb = RestrictionBatch([EcoRI, RsaI, HinfI])\n",
    "\n",
    "Ana1= Analysis(RestrictionBatch(['EcoRI', 'RsaI', 'HinfI']),amplicon1, False)\n",
    "Ana2 = Analysis(RestrictionBatch(['EcoRI', 'RsaI', 'HinfI']), Seq(amplicon2), False)"
   ]
  },
  {
   "cell_type": "code",
   "execution_count": 337,
   "id": "d72f8cbc",
   "metadata": {},
   "outputs": [
    {
     "name": "stdout",
     "output_type": "stream",
     "text": [
      "Restriction enzyme cuts amplicon 1 at: {EcoRI: [], RsaI: [22], HinfI: []}\n",
      "Restriction enzyme cuts amplicon 2 at: {EcoRI: [], RsaI: [22, 51], HinfI: []}\n"
     ]
    }
   ],
   "source": [
    "print('Restriction enzyme cuts amplicon 1 at:', rb.search(amplicon1))\n",
    "print('Restriction enzyme cuts amplicon 2 at:',rb.search(Seq(amplicon2)))"
   ]
  },
  {
   "cell_type": "code",
   "execution_count": 335,
   "id": "f5627cf4",
   "metadata": {},
   "outputs": [
    {
     "name": "stdout",
     "output_type": "stream",
     "text": [
      "Enzymes which cut the sequence without variant G-A\n",
      "RsaI       :  22.\n",
      "\n",
      "   Enzymes which do not cut the sequence.\n",
      "\n",
      "HinfI     EcoRI     \n",
      "\n"
     ]
    }
   ],
   "source": [
    "print('Enzymes which cut the sequence without variant G-A')\n",
    "Ana1.print_that()"
   ]
  },
  {
   "cell_type": "code",
   "execution_count": 336,
   "id": "c53e3525",
   "metadata": {},
   "outputs": [
    {
     "name": "stdout",
     "output_type": "stream",
     "text": [
      "Enzymes which cut the sequence with variant G-A\n",
      "RsaI       :  22, 51.\n",
      "\n",
      "   Enzymes which do not cut the sequence.\n",
      "\n",
      "HinfI     EcoRI     \n",
      "\n"
     ]
    }
   ],
   "source": [
    "print('Enzymes which cut the sequence with variant G-A')\n",
    "Ana2.print_that()"
   ]
  },
  {
   "cell_type": "markdown",
   "id": "635bbf74",
   "metadata": {},
   "source": [
    "Answer: The C282Y (Cys282Tyr) mutation in the HFE gene introduces an additional RsaI restriction enzyme cutting location within exon 4 of the gene. This enzyme could be used to identify the presence of such a variant as part of a PCR–RFLP assay."
   ]
  }
 ],
 "metadata": {
  "kernelspec": {
   "display_name": "Python 3 (ipykernel)",
   "language": "python",
   "name": "python3"
  },
  "language_info": {
   "codemirror_mode": {
    "name": "ipython",
    "version": 3
   },
   "file_extension": ".py",
   "mimetype": "text/x-python",
   "name": "python",
   "nbconvert_exporter": "python",
   "pygments_lexer": "ipython3",
   "version": "3.8.10"
  }
 },
 "nbformat": 4,
 "nbformat_minor": 5
}
