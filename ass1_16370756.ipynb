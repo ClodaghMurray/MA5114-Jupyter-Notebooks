{
 "cells": [
  {
   "cell_type": "markdown",
   "metadata": {},
   "source": [
    "### M.Sc. Biomedical Genomics / MA5114 / Autumn 2021\n",
    "\n",
    "#### Assignment 1 (10 marks)\n",
    "\n",
    "##### Deadline: 20/10/21 17:00 IST\n",
    "\n",
    "Sumbit your work via Blackboard as a copy of this `ipynb` file with your answers in the following format file name: `assX_id.ipynb` (replace X with homework number and id with your ID number). For example, the sumbission of Assignment 1 for a student with ID number 201811451 is `ass1_201811451.ipynb`"
   ]
  },
  {
   "cell_type": "markdown",
   "metadata": {},
   "source": [
    "In the following sections, where possible, you should store intermediate results in variables. After all, we want the computer to do the work for us; the following code cell provides an example of this idea."
   ]
  },
  {
   "cell_type": "code",
   "execution_count": 1,
   "metadata": {},
   "outputs": [
    {
     "name": "stdout",
     "output_type": "stream",
     "text": [
      "Area of rectangle is 10 square metres.\n",
      "Area of rectangle is 10 square metres.\n"
     ]
    }
   ],
   "source": [
    "# Print the area of a rectangle with length 5 metres and width 2 metres.\n",
    "\n",
    "# Approach 1:\n",
    "l = 5\n",
    "w = 2\n",
    "area = l*w\n",
    "print(\"Area of rectangle is\",area,\"square metres.\")\n",
    "\n",
    "# Approach 2:\n",
    "print(\"Area of rectangle is\",10,\"square metres.\")\n",
    "\n",
    "# In general, we prefer the first approach.\n",
    "# With this in mind, as a guide, you might want to ask yourself, \"Am I doing the work or is the computer doing the work?\"\n",
    "# We want the computer to do the work!"
   ]
  },
  {
   "cell_type": "markdown",
   "metadata": {},
   "source": [
    "#### 1) Strawberry Trees & Mendelian Genetics (2 marks)\n",
    "\n",
    "Mr. Joyce is studying the genetics of sweetness in the berries of the strawberry tree (*Arbutus unedo*, also known as *Caithne* in Irish). He knows that gene $X$, controlling fructose production, follows Mendelian inheritance so that $XX$ berries are typically quite sweet, $Xx$ berries are a little sweet and $xx$ berries are basically tasteless.\n",
    "\n",
    "Write a program that, given a number of strawberry tree berries examined, will calculate and print the expected numbers of sweet, slightly sweet and tasteless berries (according to the Mendelian 1:2:1 inheritance law).\n",
    "\n",
    "*Remember that the expected number of berries is an integer!*"
   ]
  },
  {
   "cell_type": "code",
   "execution_count": 84,
   "metadata": {
    "scrolled": true
   },
   "outputs": [
    {
     "name": "stdout",
     "output_type": "stream",
     "text": [
      "Sweet: 500\n",
      "Less sweet: 1000\n",
      "Tasteless: 500\n"
     ]
    }
   ],
   "source": [
    "berry_num = 2000 # Replace with a value of your choice.\n",
    "\n",
    "sweet = int(berry_num*0.25)\n",
    "less_sweet = int(berry_num*0.5)\n",
    "tasteless = int(berry_num*0.25)\n",
    "\n",
    "print('Sweet:',sweet)\n",
    "print('Less sweet:',less_sweet)\n",
    "print('Tasteless:',tasteless)"
   ]
  },
  {
   "cell_type": "markdown",
   "metadata": {},
   "source": [
    "#### 2) Determining Blood Type Compatibility (2 marks)\n",
    "\n",
    "As everyone knows, each person has a distinct blood type: 'A', 'B', 'AB' or 'O'.\n",
    "What one's blood type is plays a critical role in transfusions - these are only possible from 'like' to 'like' with the exception of blood group 'AB' who can get a transfusion from any other group, and group 'O', who can donate to all other blood group types.\n",
    "\n",
    "Write a program  that determines if two patient's blood groups are compatible. Specifically, given the two patient blood types, one a donor, the other a potential recipient, your program should print out 'True' if a donation is possible, 'False' if it isn't, and 'Invalid input' if one of the blood types is not 'A', 'B', 'AB' or 'O'."
   ]
  },
  {
   "cell_type": "code",
   "execution_count": 85,
   "metadata": {},
   "outputs": [
    {
     "name": "stdout",
     "output_type": "stream",
     "text": [
      "True\n"
     ]
    }
   ],
   "source": [
    "# 'AB' can get a transfusion from any other group, \n",
    "# 'O' can donate to all other blood group types.\n",
    "\n",
    "blood_types = ['A', 'B', 'AB', 'O']\n",
    "\n",
    "blood_type_receiver = 'A' # Replace with a value of your choice.\n",
    "blood_type_donor = 'A' # Replace with a value of your choice.\n",
    "\n",
    "\n",
    "if blood_type_receiver not in blood_types or blood_type_donor not in blood_types:\n",
    "    print('Invalid input')\n",
    "elif blood_type_receiver == blood_type_donor:\n",
    "    print('True')\n",
    "elif blood_type_receiver == 'AB' or blood_type_donor == 'O':\n",
    "    print('True')\n",
    "else:\n",
    "    print('False')\n"
   ]
  },
  {
   "cell_type": "markdown",
   "metadata": {},
   "source": [
    "#### 3) Smokies Bags of Coffee Problem (3 marks)\n",
    "\n",
    "Smokies has about 10,000 students a week who go through about 40 bags of coffee beans on average. Each Friday afternoon the Smokies team need to figure out how many more bags of coffee beans they need to order, if any. Given the the number of students per week (X), the average number of bags used to give them coffee (Y), and the number of coffee bags in stock (N), write a program that makes a decision to buy or not to buy, based on the following rules:\n",
    "\n",
    "- If there are enough bags for the coming two weeks, do not order anything.\n",
    "- If there are enough bags for the coming week, but not for two weeks, order the ammount required to complete a two-week stock.\n",
    "- If there aren't enough bags of coffee for the coming week, complete a two week stock and order another week's stock for reserves.\n",
    "\n",
    "Based on this decision, print the total number of bags that should be ordered."
   ]
  },
  {
   "cell_type": "code",
   "execution_count": 1,
   "metadata": {},
   "outputs": [
    {
     "name": "stdout",
     "output_type": "stream",
     "text": [
      "Order 120 coffee bags\n"
     ]
    }
   ],
   "source": [
    "students = 10000 # Replace with a value of your choice.\n",
    "bags_per_student = 40/10000 # Replace with a value of your choice.\n",
    "stock = 40 # Replace with a value of your choice.\n",
    "\n",
    "bags_per_week = students*bags_per_student\n",
    "bags_per_2week = bags_per_week*2\n",
    "\n",
    "\n",
    "if stock > bags_per_2week:\n",
    "    order = 0\n",
    "elif stock > bags_per_week:\n",
    "    order = bags_per_2week - stock\n",
    "else:\n",
    "    order = bags_per_week*3\n",
    "\n",
    "print('Order',int(order),'coffee bags')"
   ]
  },
  {
   "cell_type": "markdown",
   "metadata": {},
   "source": [
    "#### 4) Calculating nucleotide percentage values for a sequence of DNA (3 marks)\n",
    "\n",
    "Given a DNA sequence \"AGCTCGCGTTGCGGACGGC\" write a program in Python that\n",
    "  - assigns this to a variable \n",
    "  - calculates the percentage of A, C, G and T nucleotides in the total sequence \n",
    "  - counts the number of CG dinucleotides in the sequence and \n",
    "  - changes the sub-string GACG from upper case, to lower case letters.\n",
    "\n",
    "In all cases, use print statements to indicate what step has been completed, and print the outcome."
   ]
  },
  {
   "cell_type": "code",
   "execution_count": 1,
   "metadata": {},
   "outputs": [
    {
     "name": "stdout",
     "output_type": "stream",
     "text": [
      "Percentage of A, C, G and T: 10.526 %, 31.579 %, 42.105 % and 15.789 %.\n",
      "Total number of CGs in sequence:  4\n",
      "Sequence before sub-string change AGCTCGCGTTGCGGACGGC\n",
      "Sequence after sub-string change AGCTCGCGTTGCGgacgGC\n"
     ]
    }
   ],
   "source": [
    "seq = \"AGCTCGCGTTGCGGACGGC\" \n",
    "\n",
    "\n",
    "pc_A = 100 * round(seq.count('A')/ len(seq),5)\n",
    "pc_C = 100 * round(seq.count('C')/ len(seq),5)\n",
    "pc_G = 100 * round(seq.count('G')/ len(seq),5)\n",
    "pc_T = 100 * round(seq.count('T')/ len(seq),5)\n",
    "\n",
    "print ('Percentage of A, C, G and T:', pc_A,'%,', pc_C,'%,', pc_G,'% and', pc_T,'%.')\n",
    "\n",
    "num_CGs = seq.count('CG')\n",
    "\n",
    "print ('Total number of CGs in sequence: ', num_CGs)\n",
    "\n",
    "motif = seq.replace('GACG', 'gacg')\n",
    "\n",
    "print ('Sequence before sub-string change', seq)\n",
    "\n",
    "print ('Sequence after sub-string change', motif)"
   ]
  },
  {
   "cell_type": "code",
   "execution_count": null,
   "metadata": {},
   "outputs": [],
   "source": []
  }
 ],
 "metadata": {
  "kernelspec": {
   "display_name": "Python 3 (ipykernel)",
   "language": "python",
   "name": "python3"
  },
  "language_info": {
   "codemirror_mode": {
    "name": "ipython",
    "version": 3
   },
   "file_extension": ".py",
   "mimetype": "text/x-python",
   "name": "python",
   "nbconvert_exporter": "python",
   "pygments_lexer": "ipython3",
   "version": "3.8.8"
  }
 },
 "nbformat": 4,
 "nbformat_minor": 2
}
