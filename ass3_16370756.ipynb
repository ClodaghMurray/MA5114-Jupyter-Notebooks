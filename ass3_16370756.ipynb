{
 "cells": [
  {
   "cell_type": "markdown",
   "id": "db368dc9",
   "metadata": {},
   "source": [
    "## M.Sc. Biomedical Genomics / MA5114 \n",
    "## Assignment 3 (20 marks)"
   ]
  },
  {
   "cell_type": "markdown",
   "id": "1577c2c7",
   "metadata": {},
   "source": [
    "### Question 1"
   ]
  },
  {
   "cell_type": "code",
   "execution_count": 3,
   "id": "280dc6aa",
   "metadata": {},
   "outputs": [
    {
     "data": {
      "text/plain": [
       "'/home/clodagh/Masters/Programming for Biology'"
      ]
     },
     "execution_count": 3,
     "metadata": {},
     "output_type": "execute_result"
    }
   ],
   "source": [
    "import os \n",
    "os.getcwd()"
   ]
  },
  {
   "cell_type": "code",
   "execution_count": 56,
   "id": "ce0836ea",
   "metadata": {},
   "outputs": [
    {
     "name": "stdout",
     "output_type": "stream",
     "text": [
      "Binding site found!\n",
      "Number of binding sites found: 1\n",
      "binding site: CCCGGAGTTGG\n",
      "Start location: 89 and the stop location is:  100 and the span of the match is: (89, 100)\n",
      "CCCGGAGTTGG\n"
     ]
    }
   ],
   "source": [
    "import re\n",
    "\n",
    "regex = re.compile(r'CC...AG..GG')\n",
    "\n",
    "# (i)\n",
    "with open('intron.txt', 'r') as infile:\n",
    "    line = infile.read()\n",
    "\n",
    "# (ii)\n",
    "\n",
    "if re.search(regex, line):\n",
    "    print('Binding site found!')\n",
    "\n",
    "# (iii)\n",
    "counter = 0\n",
    "for i in re.finditer(regex, line):\n",
    "    counter+=1\n",
    "print('Number of binding sites found:', counter)\n",
    "\n",
    "# (iv)\n",
    "\n",
    "for i in re.finditer(regex, line):\n",
    "    print('binding site:', i.group()) # dot group to access the actual match\n",
    "\n",
    "# (v)\n",
    "\n",
    "\n",
    "for i in re.finditer(regex, line):\n",
    "    start =  i.start()\n",
    "    end = i.end()\n",
    "    print('Start location:', start,\n",
    "         'and the stop location is: ',end,\n",
    "         'and the span of the match is:', i.span())\n",
    "        \n",
    "print(line[89:100])"
   ]
  },
  {
   "cell_type": "markdown",
   "id": "68df2d6b",
   "metadata": {},
   "source": [
    "### Question 2"
   ]
  },
  {
   "cell_type": "code",
   "execution_count": 5,
   "id": "bd235082",
   "metadata": {},
   "outputs": [],
   "source": [
    "def extract_exon(this_exon, sequence):\n",
    "    string = sequence[int(this_exon[0]):int(this_exon[1])]\n",
    "    return string"
   ]
  },
  {
   "cell_type": "code",
   "execution_count": 57,
   "id": "0977d254",
   "metadata": {},
   "outputs": [
    {
     "name": "stdout",
     "output_type": "stream",
     "text": [
      "exons.txt\n"
     ]
    }
   ],
   "source": [
    "%%bash\n",
    "ls exons.txt"
   ]
  },
  {
   "cell_type": "code",
   "execution_count": 59,
   "id": "2d0f1005",
   "metadata": {},
   "outputs": [
    {
     "name": "stdout",
     "output_type": "stream",
     "text": [
      "::::::::::::::\n",
      "exons.txt\n",
      "::::::::::::::\n",
      "5,58\n",
      "72,133\n",
      "190,276\n",
      "340,398\n"
     ]
    }
   ],
   "source": [
    "%%bash \n",
    "more exons.txt"
   ]
  },
  {
   "cell_type": "code",
   "execution_count": 60,
   "id": "32c4c9db",
   "metadata": {},
   "outputs": [
    {
     "name": "stdout",
     "output_type": "stream",
     "text": [
      "[['5', '58'], ['72', '133'], ['190', '276'], ['340', '398']]\n"
     ]
    }
   ],
   "source": [
    "exon_chunks = []\n",
    "\n",
    "#open exons.txt with a file handler and convert them to a list of lists\n",
    "\n",
    "with open('exons.txt', 'r') as handle:\n",
    "    for exon in handle:\n",
    "        exon_chunks.append(exon.strip('\\n').split(','))\n",
    "print(exon_chunks)"
   ]
  },
  {
   "cell_type": "code",
   "execution_count": 62,
   "id": "fa6eb576",
   "metadata": {},
   "outputs": [
    {
     "name": "stdout",
     "output_type": "stream",
     "text": [
      "genomic_RNA.fa\n"
     ]
    }
   ],
   "source": [
    "%%bash \n",
    "ls genomic_RNA.fa"
   ]
  },
  {
   "cell_type": "code",
   "execution_count": 63,
   "id": "22fcb54b",
   "metadata": {},
   "outputs": [
    {
     "name": "stdout",
     "output_type": "stream",
     "text": [
      ">mRNA unspliced\n",
      "TCGATCGTACCGTCGACGATGCTACGATCGTCGATCGTAGTCGATCATCGATCGATCGACTGATCGATCGATCGATCGATCGATATCGATCGATATCATCGATGCATCGATCATCGATCGATCGATCGATCGATCGATCATATGTCAGTCGATGCATCGTAGCATCGTATAGTAGCTACGTAGCTACGATCGATCGATCGATCGTAGCTAGCTAGCTAGATCGATCATCATCGTAGCTAGCTCGACTAGCTACGTACGATCGATGCATCGATCGTAGCTAGTACGATCGCGTAGCTAGCATGCTACGTAGATCGATCGATGCATGCTAGCTAGCTAGCTACGATCGATCGATCGATCGATCGATCGATCGATCGATCGATCGTAGCTAGCTACGATCGATGCTACGTAGATCGATCGCTAGTAGATCGATCGCTAGCTAGCTGACTAGTACGCTGCTAGTAGTCAGCTAGATCGATGCTAGTCA\n"
     ]
    }
   ],
   "source": [
    "%%bash\n",
    "head genomic_RNA.fa"
   ]
  },
  {
   "cell_type": "code",
   "execution_count": 75,
   "id": "ba8d24ce",
   "metadata": {},
   "outputs": [],
   "source": [
    "spliced_seq = ''\n",
    "with open('genomic_RNA.fa', 'r') as fasta:\n",
    "    old_header = fasta.readline().strip() #reads first line\n",
    "    sequence_line = fasta.readline().strip() #reads next line\n",
    "    for this_exon in exon_chunks:\n",
    "        spliced_seq = spliced_seq + extract_exon(this_exon, sequence_line)"
   ]
  },
  {
   "cell_type": "code",
   "execution_count": 68,
   "id": "538ae3fb",
   "metadata": {},
   "outputs": [
    {
     "name": "stdout",
     "output_type": "stream",
     "text": [
      ">mRNA unspliced\n"
     ]
    }
   ],
   "source": [
    "print(old_header)"
   ]
  },
  {
   "cell_type": "code",
   "execution_count": 69,
   "id": "c57901b5",
   "metadata": {},
   "outputs": [
    {
     "name": "stdout",
     "output_type": "stream",
     "text": [
      "TCGATCGTACCGTCGACGATGCTACGATCGTCGATCGTAGTCGATCATCGATCGATCGACTGATCGATCGATCGATCGATCGATATCGATCGATATCATCGATGCATCGATCATCGATCGATCGATCGATCGATCGATCATATGTCAGTCGATGCATCGTAGCATCGTATAGTAGCTACGTAGCTACGATCGATCGATCGATCGTAGCTAGCTAGCTAGATCGATCATCATCGTAGCTAGCTCGACTAGCTACGTACGATCGATGCATCGATCGTAGCTAGTACGATCGCGTAGCTAGCATGCTACGTAGATCGATCGATGCATGCTAGCTAGCTAGCTACGATCGATCGATCGATCGATCGATCGATCGATCGATCGATCGTAGCTAGCTACGATCGATGCTACGTAGATCGATCGCTAGTAGATCGATCGCTAGCTAGCTGACTAGTACGCTGCTAGTAGTCAGCTAGATCGATGCTAGTCA\n"
     ]
    }
   ],
   "source": [
    "print(sequence_line)"
   ]
  },
  {
   "cell_type": "code",
   "execution_count": 72,
   "id": "94b0e827",
   "metadata": {},
   "outputs": [
    {
     "name": "stdout",
     "output_type": "stream",
     "text": [
      "CGTACCGTCGACGATGCTACGATCGTCGATCGTAGTCGATCATCGATCGATCGCGATCGATCGATATCGATCGATATCATCGATGCATCGATCATCGATCGATCGATCGATCGACGATCGATCGATCGTAGCTAGCTAGCTAGATCGATCATCATCGTAGCTAGCTCGACTAGCTACGTACGATCGATGCATCGATCGTACGATCGATCGATCGATCGATCGATCGATCGATCGATCGATCGTAGCTAGCTACGATCG\n"
     ]
    }
   ],
   "source": [
    "print(spliced_seq)"
   ]
  },
  {
   "cell_type": "code",
   "execution_count": 76,
   "id": "bb1b4bfe",
   "metadata": {},
   "outputs": [],
   "source": [
    "new_header = '>mRNA, spliced\\n'\n",
    "with open('spliced_RNA.fa', 'w') as outfile:\n",
    "    outfile.write(new_header)\n",
    "    outfile.write(spliced_seq)"
   ]
  },
  {
   "cell_type": "code",
   "execution_count": 77,
   "id": "08b13237",
   "metadata": {},
   "outputs": [
    {
     "name": "stdout",
     "output_type": "stream",
     "text": [
      "::::::::::::::\n",
      "spliced_RNA.fa\n",
      "::::::::::::::\n",
      ">mRNA, spliced\n",
      "CGTACCGTCGACGATGCTACGATCGTCGATCGTAGTCGATCATCGATCGATCGCGATCGATCGATATCGATCGATATCATCGATGCATCGATCATCGATCGATCGATCGATCGACGATCGATCGATCGTAGCTAGCTAGCTAGATCGATCATCATCGTAGCTAGCTCGACTAGCTACGTACGATCGATGCATCGATCGTACGATCGATCGATCGATCGATCGATCGATCGATCGATCGATCGTAGCTAGCTACGATCG"
     ]
    }
   ],
   "source": [
    "%%bash\n",
    "more spliced_RNA.fa"
   ]
  },
  {
   "cell_type": "code",
   "execution_count": 61,
   "id": "14c440e5",
   "metadata": {
    "scrolled": true
   },
   "outputs": [
    {
     "name": "stdout",
     "output_type": "stream",
     "text": [
      "CGTACCGTCGACGATGCTACGATCGTCGATCGTAGTCGATCATCGATCGATCGCGATCGATCGATATCGATCGATATCATCGATGCATCGATCATCGATCGATCGATCGATCGACGATCGATCGATCGTAGCTAGCTAGCTAGATCGATCATCATCGTAGCTAGCTCGACTAGCTACGTACGATCGATGCATCGATCGTACGATCGATCGATCGATCGATCGATCGATCGATCGATCGATCGTAGCTAGCTACGATCG\n"
     ]
    }
   ],
   "source": [
    "# get sequence from fasta file\n",
    "\n",
    "fasta = open('genomic_RNA.fa', 'r')\n",
    "whole_seq = fasta.readlines()[1]  \n",
    "    \n",
    "exons = ''\n",
    "exonsFile = open('exons.txt', 'r')\n",
    "for lines in exonsFile:\n",
    "    lines = lines.split(',')\n",
    "    segment = extract_exon(lines, whole_seq)\n",
    "    exons = exons + segment\n",
    "    \n",
    "print(exons)\n",
    "\n",
    "with open('genomic_mRNA.fa', 'w') as outfile:\n",
    "    print(exons, file=outfile) #automatically creates newline"
   ]
  },
  {
   "cell_type": "markdown",
   "id": "c68b6d5c",
   "metadata": {},
   "source": [
    "### Question 3"
   ]
  },
  {
   "cell_type": "markdown",
   "id": "89b47ce2",
   "metadata": {},
   "source": [
    "## Solutions"
   ]
  },
  {
   "cell_type": "code",
   "execution_count": 1,
   "id": "cff05717",
   "metadata": {},
   "outputs": [
    {
     "name": "stdout",
     "output_type": "stream",
     "text": [
      "chrM.fa\n"
     ]
    }
   ],
   "source": [
    "%%bash\n",
    "ls chrM.fa"
   ]
  },
  {
   "cell_type": "code",
   "execution_count": 2,
   "id": "9501a24d",
   "metadata": {},
   "outputs": [
    {
     "name": "stdout",
     "output_type": "stream",
     "text": [
      "  333   333 16907 chrM.fa\n"
     ]
    }
   ],
   "source": [
    "%%bash\n",
    "wc chrM.fa"
   ]
  },
  {
   "cell_type": "code",
   "execution_count": 3,
   "id": "8fd4b79f",
   "metadata": {},
   "outputs": [
    {
     "name": "stdout",
     "output_type": "stream",
     "text": [
      ">chrM\n",
      "GATCACAGGTCTATCACCCTATTAACCACTCACGGGAGCTCTCCATGCAT\n",
      "TTGGTATTTTCGTCTGGGGGGTATGCACGCGATAGCATTGCGAGACGCTG\n"
     ]
    }
   ],
   "source": [
    "%%bash\n",
    "head -3 chrM.fa"
   ]
  },
  {
   "cell_type": "code",
   "execution_count": 4,
   "id": "98567995",
   "metadata": {},
   "outputs": [],
   "source": [
    "import re\n",
    "with open('chrM.fa', 'r') as chrM:\n",
    "    chrM_data = chrM.read().upper().split('\\n')[1:] #turns string into a list \n",
    "    chrM_data1 = ''.join(chrM_data) #joins the elements of a list\n",
    "    chrM_data2 = re.sub('[^ATCG]','', chrM_data1) #regex should occur at start of sequence"
   ]
  },
  {
   "cell_type": "code",
   "execution_count": 38,
   "id": "a02957a5",
   "metadata": {},
   "outputs": [],
   "source": [
    "with open('chrM.fa','r') as chrM:\n",
    "    chrM_data =chrM.read().upper().split('\\n')[1:]\n",
    "    chrM_data1x = ''\n",
    "    for seq in chrM_data:\n",
    "        chrM_data1x += seq\n",
    "    chrM_data2x = ''\n",
    "    for base in chrM_data1x:\n",
    "        if re.search('[ATCG]', base):\n",
    "            chrM_data2x += base"
   ]
  },
  {
   "cell_type": "code",
   "execution_count": 5,
   "id": "cb6c7e10",
   "metadata": {},
   "outputs": [],
   "source": [
    "def reverse_complement(sequence):\n",
    "    complement_seq = complement(sequence)\n",
    "    reverse_complement = ''.join(complement.get(base) for base in reversed(sequence))\n",
    "    return reverse_complement"
   ]
  },
  {
   "cell_type": "code",
   "execution_count": 7,
   "id": "20e2550f",
   "metadata": {},
   "outputs": [],
   "source": [
    "def complement(sequence):\n",
    "    transcript_dict = {'A': 'T', 'T': 'A', 'G': 'C', 'C': 'G'}\n",
    "    complement = ''\n",
    "    for base in sequence:\n",
    "        complement += transcript_dict[base]\n",
    "    return complement\n",
    "\n",
    "def reverse_sequence(sequence):\n",
    "    reversed_seq = ''\n",
    "    for base in reversed(sequence):\n",
    "        reversed_seq += base\n",
    "    return reversed_seq\n",
    "\n",
    "def reverse_complement(sequence):\n",
    "    complement_seq = complement(sequence)\n",
    "    reverse_complement = reverse_sequence(complement_seq)\n",
    "    return reverse_complement"
   ]
  },
  {
   "cell_type": "code",
   "execution_count": 8,
   "id": "97362b70",
   "metadata": {},
   "outputs": [
    {
     "data": {
      "text/plain": [
       "'CAT'"
      ]
     },
     "execution_count": 8,
     "metadata": {},
     "output_type": "execute_result"
    }
   ],
   "source": [
    "reverse_complement(\"ATG\")"
   ]
  },
  {
   "cell_type": "code",
   "execution_count": 51,
   "id": "6bf5fdc0",
   "metadata": {},
   "outputs": [
    {
     "name": "stdout",
     "output_type": "stream",
     "text": [
      "[6, 7, 8, 9, 10, 11, 12, 13, 14, 15, 16, 17, 18, 19, 20]\n",
      "window length 6 no of hits 212\n",
      "window length 7 no of hits 0\n",
      "window length 8 no of hits 58\n",
      "window length 9 no of hits 0\n",
      "window length 10 no of hits 17\n",
      "window length 11 no of hits 0\n",
      "window length 12 no of hits 6\n",
      "window length 13 no of hits 0\n",
      "window length 14 no of hits 1\n",
      "window length 15 no of hits 0\n",
      "window length 16 no of hits 1\n",
      "window length 17 no of hits 0\n",
      "window length 18 no of hits 0\n",
      "window length 19 no of hits 0\n",
      "window length 20 no of hits 0\n"
     ]
    }
   ],
   "source": [
    "window_range = list(range(6,21))\n",
    "print(window_range)\n",
    "for i in window_range:\n",
    "    count = 0\n",
    "    start_ind = list(range(0, len(chrM_data2)-i)) #in first instance it will be minus 6 - so that we dont try access elements outside the list\n",
    "    for j in start_ind:\n",
    "        window = chrM_data2[j:j+i]\n",
    "        reverse_window = reverse_complement(window)\n",
    "        if window == reverse_window:\n",
    "            count = count + 1\n",
    "    print('window length', str(i), 'no of hits', str(count))"
   ]
  },
  {
   "cell_type": "markdown",
   "id": "7b977117",
   "metadata": {},
   "source": [
    "## My attempt"
   ]
  },
  {
   "cell_type": "code",
   "execution_count": 9,
   "id": "8f25d1e4",
   "metadata": {},
   "outputs": [
    {
     "name": "stdout",
     "output_type": "stream",
     "text": [
      "\n",
      "gatcacaggtctatcaccctattaaccactcacgggagctctccatgcat\n",
      "ttggtattttcgtctggggggtatgcacgcgatagcattgcgagacgctg\n",
      "gagccggagcaccctatgtcgcagtatctgtctttgattcctgcctcatc\n",
      "ctattatttatcgcacctacgttcaatattacaggcgaacatacttacta\n",
      "aagtgtgttaattaattaatgcttgtaggacataataataacaattgaat\n",
      "gtctgcacagccactttccacacagacatcataacaaaaaatttccacca\n",
      "aaccccccctcccccgcttctggccacagcacttaaacacatctctgcca\n",
      "aaccccaaaaacaaagaaccctaacaccagcctaaccagatttcaaattt\n",
      "tatcttttggcggtatgcacttttaacagtcaccccccaactaacacatt\n",
      "attttcccctcccactcccatactactaatctcatcaatacaacccccgc\n",
      "ccatcctacccagcacacacacaccgctgctaaccccataccccgaacca\n",
      "accaaaccccaaagacaccccccacagtttatgtagcttacctcctcaaa\n",
      "gcaatacactgaaaatgtttagacgggctcacatcaccccataaacaaat\n",
      "aggtttggtcctagcctttctattagctcttagtaagattacacatgcaa\n",
      "gcatccccgttccagtgagttcaccctctaaatcaccacgatcaaaagga\n",
      "acaagcatcaagcacgcagcaatgcagctcaaaacgcttagcctagccac\n",
      "acccccacgggaaacagcagtgattaacctttagcaataaacgaaagttt\n",
      "aactaagctatactaaccccagggttggtcaatttcgtgccagccaccgc\n",
      "ggtcacacgattaacccaagtcaatagaagccggcgtaaagagtgtttta\n",
      "gatcaccccctccccaataaagctaaaactcacctgagttgtaaaaaact\n",
      "ccagttgacacaaaatagactacgaaagtggctttaacatatctgaacac\n",
      "acaatagctaagacccaaactgggattagataccccactatgcttagccc\n",
      "taaacctcaacagttaaatcaacaaaactgctcgccagaacactacgagc\n",
      "cacagcttaaaactcaaaggacctggcggtgcttcatatccctctagagg\n",
      "agcctgttctgtaatcgataaaccccgatcaacctcaccacctcttgctc\n",
      "agcctatataccgccatcttcagcaaaccctgatgaaggctacaaagtaa\n",
      "gcgcaagtacccacgtaaagacgttaggtcaaggtgtagcccatgaggtg\n",
      "gcaagaaatgggctacattttctaccccagaaaactacgatagcccttat\n",
      "gaaacttaagggtcgaaggtggatttagcagtaaactaagagtagagtgc\n",
      "ttagttgaacagggccctgaagcgcgtacacaccgcccgtcaccctcctc\n",
      "aagtatacttcaaaggacatttaactaaaacccctacgcatttatataga\n",
      "ggagacaagtcgtaacatggtaagtgtactggaaagtgcacttggacgaa\n",
      "ccagagtgtagcttaacacaaagcacccaacttacacttaggagatttca\n",
      "acttaacttgaccgctctgagctaaacctagccccaaacccactccacct\n",
      "tactaccagacaaccttagccaaaccatttacccaaataaagtataggcg\n",
      "atagaaattgaaacctggcgcaatagatatagtaccgcaagggaaagatg\n",
      "aaaaattataaccaagcataatatagcaaggactaacccctataccttct\n",
      "gcataatgaattaactagaaataactttgcaaggagagccaaagctaaga\n",
      "cccccgaaaccagacgagctacctaagaacagctaaaagagcacacccgt\n",
      "ctatgtagcaaaatagtgggaagatttataggtagaggcgacaaacctac\n",
      "cgagcctggtgatagctggttgtccaagatagaatcttagttcaacttta\n",
      "aatttgcccacagaaccctctaaatccccttgtaaatttaactgttagtc\n",
      "caaagaggaacagctctttggacactaggaaaaaaccttgtagagagagt\n",
      "aaaaaatttaacacccatagtaggcctaaaagcagccaccaattaagaaa\n",
      "gcgttcaagctcaacacccactacctaaaaaatcccaaacatataactga\n",
      "actcctcacacccaattggaccaatctatcaccctatagaagaactaatg\n",
      "ttagtataagtaacatgaaaacattctcctccgcataagcctgcgtcaga\n",
      "ttaaaacactgaactgacaattaacagcccaatatctacaatcaaccaac\n",
      "aagtcattattaccctcactgtcaacccaacacaggcatgctcataagga\n",
      "aaggttaaaaaaagtaaaaggaactcggcaaatcttaccccgcctgttta\n",
      "ccaaaaacatcacctctagcatcaccagtattagaggcaccgcctgccca\n",
      "gtgacacatgtttaacggccgcggtaccctaaccgtgcaaaggtagcata\n",
      "atcacttgttccttaaatagggacctgtatgaatggctccacgagggttc\n",
      "agctgtctcttacttttaaccagtgaaattgacctgcccgtgaagaggcg\n",
      "ggcataacacagcaagacgagaagaccctatggagctttaatttattaat\n",
      "gcaaacagtacctaacaaacccacaggtcctaaactaccaaacctgcatt\n",
      "aaaaatttcggttggggcgacctcggagcagaacccaacctccgagcagt\n",
      "acatgctaagacttcaccagtcaaagcgaactactatactcaattgatcc\n",
      "aataacttgaccaacggaacaagttaccctagggataacagcgcaatcct\n",
      "attctagagtccatatcaacaatagggtttacgacctcgatgttggatca\n",
      "ggacatcccgatggtgcagccgctattaaaggttcgtttgttcaacgatt\n",
      "aaagtcctacgtgatctgagttcagaccggagtaatccaggtcggtttct\n",
      "atctacnttcaaattcctccctgtacgaaaggacaagagaaataaggcct\n",
      "acttcacaaagcgccttcccccgtaaatgatatcatctcaacttagtatt\n",
      "atacccacacccacccaagaacagggtttgttaagatggcagagcccggt\n",
      "aatcgcataaaacttaaaactttacagtcagaggttcaattcctcttctt\n",
      "aacaacatacccatggccaacctcctactcctcattgtacccattctaat\n",
      "cgcaatggcattcctaatgcttaccgaacgaaaaattctaggctatatac\n",
      "aactacgcaaaggccccaacgttgtaggcccctacgggctactacaaccc\n",
      "ttcgctgacgccataaaactcttcaccaaagagcccctaaaacccgccac\n",
      "atctaccatcaccctctacatcaccgccccgaccttagctctcaccatcg\n",
      "ctcttctactatgaacccccctccccatacccaaccccctggtcaacctc\n",
      "aacctaggcctcctatttattctagccacctctagcctagccgtttactc\n",
      "aatcctctgatcagggtgagcatcaaactcaaactacgccctgatcggcg\n",
      "cactgcgagcagtagcccaaacaatctcatatgaagtcaccctagccatc\n",
      "attctactatcaacattactaataagtggctcctttaacctctccaccct\n",
      "tatcacaacacaagaacacctctgattactcctgccatcatgacccttgg\n",
      "ccataatatgatttatctccacactagcagagaccaaccgaacccccttc\n",
      "gaccttgccgaaggggagtccgaactagtctcaggcttcaacatcgaata\n",
      "cgccgcaggccccttcgccctattcttcatagccgaatacacaaacatta\n",
      "ttataataaacaccctcaccactacaatcttcctaggaacaacatatgac\n",
      "gcactctcccctgaactctacacaacatattttgtcaccaagaccctact\n",
      "tctaacctccctgttcttatgaattcgaacagcatacccccgattccgct\n",
      "acgaccaactcatacacctcctatgaaaaaacttcctaccactcacccta\n",
      "gcattacttatatgatatgtctccatacccattacaatctccagcattcc\n",
      "ccctcaaacctaagaaatatgtctgataaaagagttactttgatagagta\n",
      "aataataggagcttaaacccccttatttctaggactatgagaatcgaacc\n",
      "catccctgagaatccaaaattctccgtgccacctatcacaccccatccta\n",
      "aagtaaggtcagctaaataagctatcgggcccataccccgaaaatgttgg\n",
      "ttatacccttcccgtactaattaatcccctggcccaacccgtcatctact\n",
      "ctaccatctttgcaggcacactcatcacagcgctaagctcgcactgattt\n",
      "tttacctgagtaggcctagaaataaacatgctagcttttattccagttct\n",
      "aaccaaaaaaataaaccctcgttccacagaagctgccatcaagtatttcc\n",
      "tcacgcaagcaaccgcatccataatccttctaatagctatcctcttcaac\n",
      "aatatactctccggacaatgaaccataaccaatactaccaatcaatactc\n",
      "atcattaataatcataatagctatagcaataaaactaggaatagccccct\n",
      "ttcacttctgagtcccagaggttacccaaggcacccctctgacatccggc\n",
      "ctgcttcttctcacatgacaaaaactagcccccatctcaatcatatacca\n",
      "aatctctccctcactaaacgtaagccttctcctcactctctcaatcttat\n",
      "ccatcatagcaggcagttgaggtggattaaaccaaacccagctacgcaaa\n",
      "atcttagcatactcctcaattacccacataggatgaataatagcagttct\n",
      "accgtacaaccctaacataaccattcttaatttaactatttatattatcc\n",
      "taactactaccgcattcctactactcaacttaaactccagcaccacgacc\n",
      "ctactactatctcgcacctgaaacaagctaacatgactaacacccttaat\n",
      "tccatccaccctcctctccctaggaggcctgcccccgctaaccggctttt\n",
      "tgcccaaatgggccattatcgaagaattcacaaaaaacaatagcctcatc\n",
      "atccccaccatcatagccaccatcaccctccttaacctctacttctacct\n",
      "acgcctaatctactccacctcaatcacactactccccatatctaacaacg\n",
      "taaaaataaaatgacagtttgaacatacaaaacccaccccattcctcccc\n",
      "acactcatcgcccttaccacgctactcctacctatctccccttttatact\n",
      "aataatcttatagaaatttaggttaaatacagaccaagagccttcaaagc\n",
      "cctcagtaagttgcaatacttaatttctgtaacagctaaggactgcaaaa\n",
      "ccccactctgcatcaactgaacgcaaatcagccactttaattaagctaag\n",
      "cccttactagaccaatgggacttaaacccacaaacacttagttaacagct\n",
      "aagcaccctaatcaactggcttcaatctacttctcccgccgccgggaaaa\n",
      "aaggcgggagaagccccggcaggtttgaagctgcttcttcgaatttgcaa\n",
      "ttcaatatgaaaatcacctcggagctggtaaaaagaggcctaacccctgt\n",
      "ctttagatttacagtccaatgcttcactcagccattttacctcaccccca\n",
      "ctgatgttcgccgaccgttgactattctctacaaaccacaaagacattgg\n",
      "aacactatacctattattcggcgcatgagctggagtcctaggcacagctc\n",
      "taagcctccttattcgagccgagctgggccagccaggcaaccttctaggt\n",
      "aacgaccacatctacaacgttatcgtcacagcccatgcatttgtaataat\n",
      "cttcttcatagtaatacccatcataatcggaggctttggcaactgactag\n",
      "ttcccctaataatcggtgcccccgatatggcgtttccccgcataaacaac\n",
      "ataagcttctgactcttacctccctctctcctactcctgctcgcatctgc\n",
      "tatagtggaggccggagcaggaacaggttgaacagtctaccctcccttag\n",
      "cagggaactactcccaccctggagcctccgtagacctaaccatcttctcc\n",
      "ttacacctagcaggtgtctcctctatcttaggggccatcaatttcatcac\n",
      "aacaattatcaatataaaaccccctgccataacccaataccaaacgcccc\n",
      "tcttcgtctgatccgtcctaatcacagcagtcctacttctcctatctctc\n",
      "ccagtcctagctgctggcatcactatactactaacagaccgcaacctcaa\n",
      "caccaccttcttcgaccccgccggaggaggagaccccattctataccaac\n",
      "acctattctgatttttcggtcaccctgaagtttatattcttatcctacca\n",
      "ggcttcggaataatctcccatattgtaacttactactccggaaaaaaaga\n",
      "accatttggatacataggtatggtctgagctatgatatcaattggcttcc\n",
      "tagggtttatcgtgtgagcacaccatatatttacagtaggaatagacgta\n",
      "gacacacgagcatatttcacctccgctaccataatcatcgctatccccac\n",
      "cggcgtcaaagtatttagctgactcgccacactccacggaagcaatatga\n",
      "aatgatctgctgcagtgctctgagccctaggattcatctttcttttcacc\n",
      "gtaggtggcctgactggcattgtattagcaaactcatcactagacatcgt\n",
      "actacacgacacgtactacgttgtagcccacttccactatgtcctatcaa\n",
      "taggagctgtatttgccatcataggaggcttcattcactgatttccccta\n",
      "ttctcaggctacaccctagaccaaacctacgccaaaatccatttcactat\n",
      "catattcatcggcgtaaatctaactttcttcccacaacactttctcggcc\n",
      "tatccggaatgccccgacgttactcggactaccccgatgcatacaccaca\n",
      "tgaaacatcctatcatctgtaggctcattcatttctctaacagcagtaat\n",
      "attaataattttcatgatttgagaagccttcgcttcgaagcgaaaagtcc\n",
      "taatagtagaagaaccctccataaacctggagtgactatatggatgcccc\n",
      "ccaccctaccacacattcgaagaacccgtatacataaaatctagacaaaa\n",
      "aaggaaggaatcgaaccccccaaagctggtttcaagccaaccccatggcc\n",
      "tccatgactttttcaaaaaggtattagaaaaaccatttcataactttgtc\n",
      "aaagttaaattataggctaaatcctatatatcttaatggcacatgcagcg\n",
      "caagtaggtctacaagacgctacttcccctatcatagaagagcttatcac\n",
      "ctttcatgatcacgccctcataatcattttccttatctgcttcctagtcc\n",
      "tgtatgcccttttcctaacactcacaacaaaactaactaatactaacatc\n",
      "tcagacgctcaggaaatagaaaccgtctgaactatcctgcccgccatcat\n",
      "cctagtcctcatcgccctcccatccctacgcatcctttacataacagacg\n",
      "aggtcaacgatccctcccttaccatcaaatcaattggccaccaatggtac\n",
      "tgaacctacgagtacaccgactacggcggactaatcttcaactcctacat\n",
      "acttcccccattattcctagaaccaggcgacctgcgactccttgacgttg\n",
      "acaatcgagtagtactcccgattgaagcccccattcgtataataattaca\n",
      "tcacaagacgtcttgcactcatgagctgtccccacattaggcttaaaaac\n",
      "agatgcaattcccggacgtctaaaccaaaccactttcaccgctacacgac\n",
      "cgggggtatactacggtcaatgctctgaaatctgtggagcaaaccacagt\n",
      "ttcatgcccatcgtcctagaattaattcccctaaaaatctttgaaatagg\n",
      "gcccgtatttaccctatagcaccccctctaccccctctagagcccactgt\n",
      "aaagctaacttagcattaaccttttaagttaaagattaagagaaccaaca\n",
      "cctctttacagtgaaatgccccaactaaatactaccgtatggcccaccat\n",
      "aattacccccatactccttacactattcctcatcacccaactaaaaatat\n",
      "taaacacaaactaccacctacctccctcaccaaagcccataaaaataaaa\n",
      "aattataacaaaccctgagaaccaaaatgaacgaaaatctgttcgcttca\n",
      "ttcattgcccccacaatcctaggcctacccgccgcagtactgatcattct\n",
      "atttccccctctattgatccccacctccaaatatctcatcaacaaccgac\n",
      "taatcaccacccaacaatgactaatcaaactaacctcaaaacaaatgata\n",
      "accatacacaacactaaaggacgaacctgatctcttatactagtatcctt\n",
      "aatcatttttattgccacaactaacctcctcggactcctgcctcactcat\n",
      "ttacaccaaccacccaactatctataaacctagccatggccatcccctta\n",
      "tgagcgggcacagtgattataggctttcgctctaagattaaaaatgccct\n",
      "agcccacttcttaccacaaggcacacctacaccccttatccccatactag\n",
      "ttattatcgaaaccatcagcctactcattcaaccaatagccctggccgta\n",
      "cgcctaaccgctaacattactgcaggccacctactcatgcacctaattgg\n",
      "aagcgccaccctagcaatatcaaccattaaccttccctctacacttatca\n",
      "tcttcacaattctaattctactgactatcctagaaatcgctgtcgcctta\n",
      "atccaagcctacgttttcacacttctagtaagcctctacctgcacgacaa\n",
      "cacataatgacccaccaatcacatgcctatcatatagtaaaacccagccc\n",
      "atgacccctaacaggggccctctcagccctcctaatgacctccggcctag\n",
      "ccatgtgatttcacttccactccataacgctcctcatactaggcctacta\n",
      "accaacacactaaccatataccaatgatggcgcgatgtaacacgagaaag\n",
      "cacataccaaggccaccacacaccacctgtccaaaaaggccttcgatacg\n",
      "ggataatcctatttattacctcagaagtttttttcttcgcaggatttttc\n",
      "tgagccttttaccactccagcctagcccctaccccccaattaggagggca\n",
      "ctggcccccaacaggcatcaccccgctaaatcccctagaagtcccactcc\n",
      "taaacacatccgtattactcgcatcaggagtatcaatcacctgagctcac\n",
      "catagtctaatagaaaacaaccgaaaccaaataattcaagcactgcttat\n",
      "tacaattttactgggtctctattttaccctcctacaagcctcagagtact\n",
      "tcgagtctcccttcaccatttccgacggcatctacggctcaacatttttt\n",
      "gtagccacaggcttccacggacttcacgtcattattggctcaactttcct\n",
      "cactatctgcttcatccgccaactaatatttcactttacatccaaacatc\n",
      "actttggcttcgaagccgccgcctgatactggcattttgtagatgtggtt\n",
      "tgactatttctgtatgtctccatctattgatgagggtcttactcttttag\n",
      "tataaatagtaccgttaacttccaattaactagttttgacaacattcaaa\n",
      "aaagagtaataaacttcgccttaattttaataatcaacaccctcctagcc\n",
      "ttactactaataattattacattttgactaccacaactcaacggctacat\n",
      "agaaaaatccaccccttacgagtgcggcttcgaccctatatcccccgccc\n",
      "gcgtccctttctccataaaattcttcttagtagctattaccttcttatta\n",
      "tttgatctagaaattgccctccttttacccctaccatgagccctacaaac\n",
      "aactaacctgccactaatagttatgtcatccctcttattaatcatcatcc\n",
      "tagccctaagtctggcctatgagtgactacaaaaaggattagactgaacc\n",
      "gaattggtatatagtttaaacaaaacgaatgatttcgactcattaaatta\n",
      "tgataatcatatttaccaaatgcccctcatttacataaatattatactag\n",
      "catttaccatctcacttctaggaatactagtatatcgctcacacctcata\n",
      "tcctccctactatgcctagaaggaataatactatcgctgttcattatagc\n",
      "tactctcataaccctcaacacccactccctcttagccaatattgtgccta\n",
      "ttgccatactagtctttgccgcctgcgaagcagcggtgggcctagcccta\n",
      "ctagtctcaatctccaacacatatggcctagactacgtacataacctaaa\n",
      "cctactccaatgctaaaactaatcgtcccaacaattatattactaccact\n",
      "gacatgactttccaaaaaacacataatttgaatcaacacaaccacccaca\n",
      "gcctaattattagcatcatccctctactattttttaaccaaatcaacaac\n",
      "aacctatttagctgttccccaaccttttcctccgaccccctaacaacccc\n",
      "cctcctaatactaactacctgactcctacccctcacaatcatggcaagcc\n",
      "aacgccacttatccagtgaaccactatcacgaaaaaaactctacctctct\n",
      "atactaatctccctacaaatctccttaattataacattcacagccacaga\n",
      "actaatcatattttatatcttcttcgaaaccacacttatccccaccttgg\n",
      "ctatcatcacccgatgaggcaaccagccagaacgcctgaacgcaggcaca\n",
      "tacttcctattctacaccctagtaggctcccttcccctactcatcgcact\n",
      "aatttacactcacaacaccctaggctcactaaacattctactactcactc\n",
      "tcactgcccaagaactatcaaactcctgagccaacaacttaatatgacta\n",
      "gcttacacaatagcttttatagtaaagatacctctttacggactccactt\n",
      "atgactccctaaagcccatgtcgaagcccccatcgctgggtcaatagtac\n",
      "ttgccgcagtactcttaaaactaggcggctatggtataatacgcctcaca\n",
      "ctcattctcaaccccctgacaaaacacatagcctaccccttccttgtact\n",
      "atccctatgaggcataattataacaagctccatctgcctacgacaaacag\n",
      "acctaaaatcgctcattgcatactcttcaatcagccacatagccctcgta\n",
      "gtaacagccattctcatccaaaccccctgaagcttcaccggcgcagtcat\n",
      "tctcataatcgcccacgggcttacatcctcattactattctgcctagcaa\n",
      "actcaaactacgaacgcactcacagtcgcatcataatcctctctcaagga\n",
      "cttcaaactctactcccactaatagctttttgatgacttctagcaagcct\n",
      "cgctaacctcgccttaccccccactattaacctactgggagaactctctg\n",
      "tgctagtaaccacgttctcctgatcaaatatcactctcctacttacagga\n",
      "ctcaacatactagtcacagccctatactccctctacatatttaccacaac\n",
      "acaatggggctcactcacccaccacattaacaacataaaaccctcattca\n",
      "cacgagaaaacaccctcatgttcatacacctatcccccattctcctccta\n",
      "tccctcaaccccgacatcattaccgggttttcctcttgtaaatatagttt\n",
      "aaccaaaacatcagattgtgaatctgacaacagaggcttacgacccctta\n",
      "tttaccgagaaagctcacaagaactgctaactcatgcccccatgtctaac\n",
      "aacatggctttctcaacttttaaaggataacagctatccattggtcttag\n",
      "gccccaaaaattttggtgcaactccaaataaaagtaataaccatgcacac\n",
      "tactataaccaccctaaccctgacttccctaattccccccatccttacca\n",
      "ccctcgttaaccctaacaaaaaaaactcatacccccattatgtaaaatcc\n",
      "attgtcgcatccacctttattatcagtctcttccccacaacaatattcat\n",
      "gtgcctagaccaagaagttattatctcgaactgacactgagccacaaccc\n",
      "aaacaacccagctctccctaagcttcaaactagactacttctccataata\n",
      "ttcatccctgtagcattgttcgttacatggtccatcatagaattctcact\n",
      "gtgatatataaactcagacccaaacattaatcagttcttcaaatatctac\n",
      "tcatcttcctaattaccatactaatcttagttaccgctaacaacctattc\n",
      "caactgttcatcggctgagagggcgtaggaattatatccttcttgctcat\n",
      "cagttgatgatacgcccgagcagatgccaacacagcagccattcaagcaa\n",
      "tcctatacaaccgtatcggcgatatcggtttcatcctcgccttagcatga\n",
      "tttatcctacactccaactcatgagacccacaacaaatagcccttctaaa\n",
      "cgctaatccaagcctcaccccactactaggcctcctcctagcagcagcag\n",
      "gcaaatcagcccaattaggtctccacccctgactcccctcagccatagaa\n",
      "ggccccaccccagtctcagccctactccactcaagcactatagttgtagc\n",
      "aggaatcttcttactcatccgcttccaccccctagcagaaaatagcccac\n",
      "taatccaaactctaacactatgcttaggcgctatcaccactctgttcgca\n",
      "gcagtctgcgcccttacacaaaatgacatcaaaaaaatcgtagccttctc\n",
      "cacttcaagtcaactaggactcataatagttacaatcggcatcaaccaac\n",
      "cacacctagcattcctgcacatctgtacccacgccttcttcaaagccata\n",
      "ctatttatgtgctccgggtccatcatccacaaccttaacaatgaacaaga\n",
      "tattcgaaaaataggaggactactcaaaaccatacctctcacttcaacct\n",
      "ccctcaccattggcagcctagcattagcaggaatacctttcctcacaggt\n",
      "ttctactccaaagaccacatcatcgaaaccgcaaacatatcatacacaaa\n",
      "cgcctgagccctatctattactctcatcgctacctccctgacaagcgcct\n",
      "atagcactcgaataattcttctcaccctaacaggtcaacctcgcttcccc\n",
      "acccttactaacattaacgaaaataaccccaccctactaaaccccattaa\n",
      "acgcctggcagccggaagcctattcgcaggatttctcattactaacaaca\n",
      "tttcccccgcatcccccttccaaacaacaatccccctctacctaaaactc\n",
      "acagccctcgctgtcactttcctaggacttctaacagccctagacctcaa\n",
      "ctacctaaccaacaaacttaaaataaaatccccactatgcacattttatt\n",
      "tctccaacatactcggattctaccctagcatcacacaccgcacaatcccc\n",
      "tatctaggccttcttacgagccaaaacctgcccctactcctcctagacct\n",
      "aacctgactagaaaagctattacctaaaacaatttcacagcaccaaatct\n",
      "ccacctccatcatcacctcaacccaaaaaggcataattaaactttacttc\n",
      "ctctctttcttcttcccactcatcctaaccctactcctaatcacataacc\n",
      "tattcccccgagcaatctcaattacaatatatacaccaacaaacaatgtt\n",
      "caaccagtaactactactaatcaacgcccataatcatacaaagcccccgc\n",
      "accaataggatcctcccgaatcaaccctgacccctctccttcataaatta\n",
      "ttcagcttcctacactattaaagtttaccacaaccaccaccccatcatac\n",
      "tctttcacccacagcaccaatcctacctccatcgctaaccccactaaaac\n",
      "actcaccaagacctcaacccctgacccccatgcctcaggatactcctcaa\n",
      "tagccatcgctgtagtatatccaaagacaaccatcattccccctaaataa\n",
      "attaaaaaaactattaaacccatataacctcccccaaaattcagaataat\n",
      "aacacacccgaccacaccgctaacaatcaatactaaacccccataaatag\n",
      "gagaaggcttagaagaaaaccccacaaaccccattactaaacccacactc\n",
      "aacagaaacaaagcatacatcattattctcgcacggactacaaccacgac\n",
      "caatgatatgaaaaaccatcgttgtatttcaactacaagaacaccaatga\n",
      "ccccaatacgcaaaactaaccccctaataaaattaattaaccactcattc\n",
      "atcgacctccccaccccatccaacatctccgcatgatgaaacttcggctc\n",
      "actccttggcgcctgcctgatcctccaaatcaccacaggactattcctag\n",
      "ccatgcactactcaccagacgcctcaaccgccttttcatcaatcgcccac\n",
      "atcactcgagacgtaaattatggctgaatcatccgctaccttcacgccaa\n",
      "tggcgcctcaatattctttatctgcctcttcctacacatcgggcgaggcc\n",
      "tatattacggatcatttctctactcagaaacctgaaacatcggcattatc\n",
      "ctcctgcttgcaactatagcaacagccttcataggctatgtcctcccgtg\n",
      "aggccaaatatcattctgaggggccacagtaattacaaacttactatccg\n",
      "ccatcccatacattgggacagacctagttcaatgaatctgaggaggctac\n",
      "tcagtagacagtcccaccctcacacgattctttacctttcacttcatctt\n",
      "gcccttcattattgcagccctagcaacactccacctcctattcttgcacg\n",
      "aaacgggatcaaacaaccccctaggaatcacctcccattccgataaaatc\n",
      "accttccacccttactacacaatcaaagacgccctcggcttacttctctt\n",
      "ccttctctccttaatgacattaacactattctcaccagacctcctaggcg\n",
      "acccagacaattataccctagccaaccccttaaacacccctccccacatc\n",
      "aagcccgaatgatatttcctattcgcctacacaattctccgatccgtccc\n",
      "taacaaactaggaggcgtccttgccctattactatccatcctcatcctag\n",
      "caataatccccatcctccatatatccaaacaacaaagcataatatttcgc\n",
      "ccactaagccaatcactttattgactcctagccgcagacctcctcattct\n",
      "aacctgaatcggaggacaaccagtaagctacccttttaccatcattggac\n",
      "aagtagcatccgtactatacttcacaacaatcctaatcctaataccaact\n",
      "atctccctaattgaaaacaaaatactcaaatgggcctgtccttgtagtat\n",
      "aaactaatacaccagtcttgtaaaccggagatgaaaacctttttccaagg\n",
      "acaaatcagagaaaaagtctttaactccaccattagcacccaaagctaag\n",
      "attctaatttaaactattctctgttctttcatggggaagcagatttgggt\n",
      "accacccaagtattgactcacccatcaacaaccgctatgtatttcgtaca\n",
      "ttactgccagccaccatgaatattgtacggtaccataaatacttgaccac\n",
      "ctgtagtacataaaaacccaatccacatcaaaaccccctccccatgctta\n",
      "caagcaagtacagcaatcaaccctcaactatcacacatcaactgcaactc\n",
      "caaagccacccctcacccactaggataccaacaaacctacccacccttaa\n",
      "cagtacatagtacataaagccatttaccgtacatagcacattacagtcaa\n",
      "atcccttctcgtccccatggatgacccccctcagataggggtcccttgac\n",
      "caccatcctccgtgaaatcaatatcccgcacaagagtgctactctcctcg\n",
      "ctccgggcccataacacttgggggtagctaaagtgaactgtatccgacat\n",
      "ctggttcctacttcagggtcataaagcctaaatagcccacacgttcccct\n",
      "taaataagacatcacgatg\n"
     ]
    }
   ],
   "source": [
    "# Clean up data\n",
    "\n",
    "chrm_data = open('chrM.fa','r')\n",
    "data = chrm_data.read().strip()\n",
    "data = data.lower()\n",
    "data = data[5:]\n",
    "print(data)"
   ]
  },
  {
   "cell_type": "code",
   "execution_count": 10,
   "id": "530911b6",
   "metadata": {},
   "outputs": [],
   "source": [
    "#define function for reverse complement \n",
    "\n",
    "def complement(sequence):\n",
    "    transcript_dict = {'a': 't', 't': 'a', 'g': 'c', 'c': 'g'}\n",
    "    complement = ''\n",
    "    for base in sequence:\n",
    "        complement += transcript_dict[base]\n",
    "    return complement\n",
    "\n",
    "def reverse_sequence(sequence):\n",
    "    reversed_seq = ''\n",
    "    for base in reversed(sequence):\n",
    "        reversed_seq += base\n",
    "    return reversed_seq\n",
    "\n",
    "def reverse_complement(sequence):\n",
    "    complement_seq = complement(sequence)\n",
    "    reverse_complement = reverse_sequence(complement_seq)\n",
    "    return reverse_complement\n"
   ]
  },
  {
   "cell_type": "code",
   "execution_count": 11,
   "id": "55810825",
   "metadata": {},
   "outputs": [
    {
     "data": {
      "text/plain": [
       "'ctataacccacgt'"
      ]
     },
     "execution_count": 11,
     "metadata": {},
     "output_type": "execute_result"
    }
   ],
   "source": [
    "reverse_complement('acgtgggttatag')"
   ]
  },
  {
   "cell_type": "code",
   "execution_count": 16,
   "id": "1de59946",
   "metadata": {},
   "outputs": [
    {
     "data": {
      "text/plain": [
       "False"
      ]
     },
     "execution_count": 16,
     "metadata": {},
     "output_type": "execute_result"
    }
   ],
   "source": [
    "#define functions for palindrome and lists of palindromes\n",
    "\n",
    "def palindrome(seq):\n",
    "    if seq == reverse_complement(seq):\n",
    "        return True\n",
    "    else:\n",
    "        return False \n",
    "       \n",
    "palindrome('ttt')"
   ]
  },
  {
   "cell_type": "code",
   "execution_count": 17,
   "id": "4391075a",
   "metadata": {},
   "outputs": [
    {
     "name": "stdout",
     "output_type": "stream",
     "text": [
      "Number of 6 base pilindromes: 210\n"
     ]
    }
   ],
   "source": [
    "import re\n",
    "\n",
    "chrm_data = open('chrM.fa','r')\n",
    "data = chrm_data.read().strip()\n",
    "data = data.lower()\n",
    "data = data[5:]\n",
    "\n",
    "regex = re.compile(r'[acgt]{6}')\n",
    "\n",
    "runs = re.findall(regex, data)\n",
    "\n",
    "\n",
    "palindromes = []\n",
    "for x in runs:\n",
    "    if palindrome(x):\n",
    "        palindromes += x\n",
    "\n",
    "print('Number of 6 base pilindromes:', len(palindromes))\n",
    "    "
   ]
  },
  {
   "cell_type": "code",
   "execution_count": 20,
   "id": "1b83568f",
   "metadata": {},
   "outputs": [
    {
     "name": "stdout",
     "output_type": "stream",
     "text": [
      "0\n"
     ]
    }
   ],
   "source": [
    "# loop over moving window for each seq length\n",
    "\n",
    "for i in range(6,21,1):\n",
    "    regex = re.compile(r'[acgt]{i}')\n",
    "    runs = re.findall(regex, data)\n",
    "    \n",
    "    palindromes = []\n",
    "    for x in runs:\n",
    "        if palindrome(x):\n",
    "            print(x)\n",
    "            \n",
    "print(len(palindromes))"
   ]
  },
  {
   "cell_type": "code",
   "execution_count": 21,
   "id": "62dcac8e",
   "metadata": {},
   "outputs": [
    {
     "name": "stdout",
     "output_type": "stream",
     "text": [
      "Number of 7 base pilindromes: 0\n"
     ]
    }
   ],
   "source": [
    "# I cant get the loop to work so .... one by one\n",
    "\n",
    "regex = re.compile(r'[acgt]{7}')\n",
    "\n",
    "runs = re.findall(regex, data)\n",
    "\n",
    "palindromes = []\n",
    "for x in runs:\n",
    "    if palindrome(x):\n",
    "        palindromes += x\n",
    "\n",
    "print('Number of 7 base pilindromes:', len(palindromes))\n",
    "    "
   ]
  },
  {
   "cell_type": "code",
   "execution_count": 22,
   "id": "eee233f4",
   "metadata": {},
   "outputs": [
    {
     "name": "stdout",
     "output_type": "stream",
     "text": [
      "Number of 8 base pilindromes: 72\n"
     ]
    }
   ],
   "source": [
    "regex = re.compile(r'[acgt]{8}')\n",
    "\n",
    "runs = re.findall(regex, data)\n",
    "\n",
    "palindromes = []\n",
    "for x in runs:\n",
    "    if palindrome(x):\n",
    "        palindromes += x\n",
    "\n",
    "print('Number of 8 base pilindromes:', len(palindromes))\n",
    "    "
   ]
  },
  {
   "cell_type": "code",
   "execution_count": 499,
   "id": "5daddbf7",
   "metadata": {},
   "outputs": [
    {
     "name": "stdout",
     "output_type": "stream",
     "text": [
      "Number of 9 base pilindromes: 0\n"
     ]
    }
   ],
   "source": [
    "regex = re.compile(r'[acgt]{9}')\n",
    "\n",
    "runs = re.findall(regex, data)\n",
    "\n",
    "palindromes = []\n",
    "for x in runs:\n",
    "    if palindrome(x):\n",
    "        palindromes += x\n",
    "\n",
    "print('Number of 9 base pilindromes:', len(palindromes))\n",
    "    "
   ]
  },
  {
   "cell_type": "code",
   "execution_count": 498,
   "id": "0f3336bd",
   "metadata": {},
   "outputs": [
    {
     "name": "stdout",
     "output_type": "stream",
     "text": [
      "Number of 10 base pilindromes: 30\n"
     ]
    }
   ],
   "source": [
    "regex = re.compile(r'[acgt]{10}')\n",
    "\n",
    "runs = re.findall(regex, data)\n",
    "\n",
    "palindromes = []\n",
    "for x in runs:\n",
    "    if palindrome(x):\n",
    "        palindromes += x\n",
    "\n",
    "print('Number of 10 base pilindromes:', len(palindromes))\n",
    "    "
   ]
  },
  {
   "cell_type": "code",
   "execution_count": 501,
   "id": "b3fd2e54",
   "metadata": {},
   "outputs": [
    {
     "name": "stdout",
     "output_type": "stream",
     "text": [
      "Number of 11 base pilindromes: 0\n"
     ]
    }
   ],
   "source": [
    "regex = re.compile(r'[acgt]{11}')\n",
    "\n",
    "runs = re.findall(regex, data)\n",
    "\n",
    "palindromes = []\n",
    "for x in runs:\n",
    "    if palindrome(x):\n",
    "        palindromes += x\n",
    "\n",
    "print('Number of 11 base pilindromes:', len(palindromes))\n",
    "    "
   ]
  },
  {
   "cell_type": "code",
   "execution_count": 502,
   "id": "b39f0037",
   "metadata": {},
   "outputs": [
    {
     "name": "stdout",
     "output_type": "stream",
     "text": [
      "Number of 12 base pilindromes: 0\n"
     ]
    }
   ],
   "source": [
    "regex = re.compile(r'[acgt]{12}')\n",
    "\n",
    "runs = re.findall(regex, data)\n",
    "\n",
    "palindromes = []\n",
    "for x in runs:\n",
    "    if palindrome(x):\n",
    "        palindromes += x\n",
    "\n",
    "print('Number of 12 base pilindromes:', len(palindromes))\n",
    "    "
   ]
  },
  {
   "cell_type": "code",
   "execution_count": 503,
   "id": "b27ccb31",
   "metadata": {},
   "outputs": [
    {
     "name": "stdout",
     "output_type": "stream",
     "text": [
      "Number of 13 base pilindromes: 0\n"
     ]
    }
   ],
   "source": [
    "regex = re.compile(r'[acgt]{13}')\n",
    "\n",
    "runs = re.findall(regex, data)\n",
    "\n",
    "palindromes = []\n",
    "for x in runs:\n",
    "    if palindrome(x):\n",
    "        palindromes += x\n",
    "\n",
    "print('Number of 13 base pilindromes:', len(palindromes))\n",
    "    "
   ]
  },
  {
   "cell_type": "code",
   "execution_count": 504,
   "id": "d78c536b",
   "metadata": {},
   "outputs": [
    {
     "name": "stdout",
     "output_type": "stream",
     "text": [
      "Number of 14 base pilindromes: 0\n"
     ]
    }
   ],
   "source": [
    "regex = re.compile(r'[acgt]{14}')\n",
    "\n",
    "runs = re.findall(regex, data)\n",
    "\n",
    "palindromes = []\n",
    "for x in runs:\n",
    "    if palindrome(x):\n",
    "        palindromes += x\n",
    "\n",
    "print('Number of 14 base pilindromes:', len(palindromes))\n",
    "    "
   ]
  },
  {
   "cell_type": "code",
   "execution_count": 505,
   "id": "3056fa47",
   "metadata": {},
   "outputs": [
    {
     "name": "stdout",
     "output_type": "stream",
     "text": [
      "Number of 15 base pilindromes: 0\n"
     ]
    }
   ],
   "source": [
    "regex = re.compile(r'[acgt]{15}')\n",
    "\n",
    "runs = re.findall(regex, data)\n",
    "\n",
    "palindromes = []\n",
    "for x in runs:\n",
    "    if palindrome(x):\n",
    "        palindromes += x\n",
    "\n",
    "print('Number of 15 base pilindromes:', len(palindromes))\n",
    "    "
   ]
  },
  {
   "cell_type": "code",
   "execution_count": 506,
   "id": "227f4510",
   "metadata": {},
   "outputs": [
    {
     "name": "stdout",
     "output_type": "stream",
     "text": [
      "Number of 16 base pilindromes: 0\n"
     ]
    }
   ],
   "source": [
    "regex = re.compile(r'[acgt]{16}')\n",
    "\n",
    "runs = re.findall(regex, data)\n",
    "\n",
    "palindromes = []\n",
    "for x in runs:\n",
    "    if palindrome(x):\n",
    "        palindromes += x\n",
    "\n",
    "print('Number of 16 base pilindromes:', len(palindromes))\n",
    "    "
   ]
  },
  {
   "cell_type": "code",
   "execution_count": 507,
   "id": "197483e7",
   "metadata": {},
   "outputs": [
    {
     "name": "stdout",
     "output_type": "stream",
     "text": [
      "Number of 17 base pilindromes: 0\n"
     ]
    }
   ],
   "source": [
    "regex = re.compile(r'[acgt]{17}')\n",
    "\n",
    "runs = re.findall(regex, data)\n",
    "\n",
    "palindromes = []\n",
    "for x in runs:\n",
    "    if palindrome(x):\n",
    "        palindromes += x\n",
    "\n",
    "print('Number of 17 base pilindromes:', len(palindromes))\n",
    "    "
   ]
  },
  {
   "cell_type": "code",
   "execution_count": 508,
   "id": "18f5e22b",
   "metadata": {},
   "outputs": [
    {
     "name": "stdout",
     "output_type": "stream",
     "text": [
      "Number of 18 base pilindromes: 0\n"
     ]
    }
   ],
   "source": [
    "regex = re.compile(r'[acgt]{18}')\n",
    "\n",
    "runs = re.findall(regex, data)\n",
    "\n",
    "palindromes = []\n",
    "for x in runs:\n",
    "    if palindrome(x):\n",
    "        palindromes += x\n",
    "\n",
    "print('Number of 18 base pilindromes:', len(palindromes))\n",
    "    "
   ]
  },
  {
   "cell_type": "code",
   "execution_count": 510,
   "id": "c3275311",
   "metadata": {},
   "outputs": [
    {
     "name": "stdout",
     "output_type": "stream",
     "text": [
      "Number of 19 base pilindromes: 0\n"
     ]
    }
   ],
   "source": [
    "regex = re.compile(r'[acgt]{19}')\n",
    "\n",
    "runs = re.findall(regex, data)\n",
    "\n",
    "palindromes = []\n",
    "for x in runs:\n",
    "    if palindrome(x):\n",
    "        palindromes += x\n",
    "\n",
    "print('Number of 19 base pilindromes:', len(palindromes))\n",
    "    "
   ]
  },
  {
   "cell_type": "code",
   "execution_count": 511,
   "id": "da20e4b3",
   "metadata": {},
   "outputs": [
    {
     "name": "stdout",
     "output_type": "stream",
     "text": [
      "Number of 20 base pilindromes: 0\n"
     ]
    }
   ],
   "source": [
    "regex = re.compile(r'[acgt]{20}')\n",
    "\n",
    "runs = re.findall(regex, data)\n",
    "\n",
    "palindromes = []\n",
    "for x in runs:\n",
    "    if palindrome(x):\n",
    "        palindromes += x\n",
    "\n",
    "print('Number of 20 base pilindromes:', len(palindromes))\n",
    "    "
   ]
  }
 ],
 "metadata": {
  "kernelspec": {
   "display_name": "Python 3 (ipykernel)",
   "language": "python",
   "name": "python3"
  },
  "language_info": {
   "codemirror_mode": {
    "name": "ipython",
    "version": 3
   },
   "file_extension": ".py",
   "mimetype": "text/x-python",
   "name": "python",
   "nbconvert_exporter": "python",
   "pygments_lexer": "ipython3",
   "version": "3.8.10"
  }
 },
 "nbformat": 4,
 "nbformat_minor": 5
}
