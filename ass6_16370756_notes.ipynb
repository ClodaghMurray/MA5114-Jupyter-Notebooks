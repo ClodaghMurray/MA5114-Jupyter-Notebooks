{
 "cells": [
  {
   "cell_type": "markdown",
   "id": "900cd683",
   "metadata": {},
   "source": [
    "## Assignment 6 - Programming for Biology "
   ]
  },
  {
   "cell_type": "code",
   "execution_count": 9,
   "id": "3efb76db",
   "metadata": {},
   "outputs": [
    {
     "data": {
      "text/plain": [
       "'/home/clodagh/Masters/Programming for Biology'"
      ]
     },
     "execution_count": 9,
     "metadata": {},
     "output_type": "execute_result"
    }
   ],
   "source": [
    "import os\n",
    "os.getcwd()"
   ]
  },
  {
   "cell_type": "code",
   "execution_count": 14,
   "id": "a435e4d1",
   "metadata": {},
   "outputs": [
    {
     "name": "stdout",
     "output_type": "stream",
     "text": [
      "fastqc_files(1).py\n",
      "fastqc_out.tar\n",
      "test_dataset.tar\n",
      "trimmomatic_script(1).py\n",
      "trim_out.tar\n"
     ]
    }
   ],
   "source": [
    "%%bash\n",
    "ls /home/clodagh/Masters/Programming\\ for\\ Biology/thesis"
   ]
  },
  {
   "cell_type": "markdown",
   "id": "66fba0ff",
   "metadata": {},
   "source": [
    "### Following Github tutorial"
   ]
  },
  {
   "cell_type": "markdown",
   "id": "217b6db4",
   "metadata": {},
   "source": [
    "At the command line, navigate to the '~/thesis' folder and list files in the directory - it contains the 5 files associated with assignment from Blackboard."
   ]
  },
  {
   "cell_type": "markdown",
   "id": "3d27189a",
   "metadata": {},
   "source": [
    "`git init` - Initialize empty git repository within the thesis directory"
   ]
  },
  {
   "cell_type": "markdown",
   "id": "d6aa2646",
   "metadata": {},
   "source": [
    "`git status` to follow what Git is doing. \n",
    "\n",
    "In this instance calling `git status` reveals all of the files in the directory are untracked. \n",
    "\n",
    "`git add --filename--` is used to add files to the staging area. I added all 5 files.\n",
    " \n",
    "Now, git recognizes that I want these files version controlled.\n",
    "\n",
    "`git status` is called again to check this."
   ]
  },
  {
   "cell_type": "markdown",
   "id": "a8231559",
   "metadata": {},
   "source": [
    "These files are now in the local repository and once they are 'committed', a snapshot is taken of the code. This version of the code can be reverted back to later if necessary."
   ]
  },
  {
   "cell_type": "markdown",
   "id": "c8291e79",
   "metadata": {},
   "source": [
    "`git commit -m \"Assing initial version of FastQC code\"` \n",
    "\n",
    "the -m flag is used to add a message describing the changes to the commit. "
   ]
  },
  {
   "cell_type": "markdown",
   "id": "e3ea6cee",
   "metadata": {},
   "source": [
    "`git log` is used to get a record of all of your commits and associated commit messages"
   ]
  },
  {
   "cell_type": "markdown",
   "id": "684aa125",
   "metadata": {},
   "source": [
    "#### Making Changes to the code"
   ]
  },
  {
   "cell_type": "markdown",
   "id": "fe769966",
   "metadata": {},
   "source": [
    "Now we are free to make changes to the code"
   ]
  },
  {
   "cell_type": "markdown",
   "id": "0b9d0663",
   "metadata": {},
   "source": [
    "I added a note to the 'fastqc_files.py' file. \n",
    "Because this file is in the staging area, git recognizes that a change has been made. This can be checkd, once again, with `git status`."
   ]
  },
  {
   "cell_type": "markdown",
   "id": "bb7706bd",
   "metadata": {},
   "source": [
    "`git diff` shows you any differences between the files in your current directory, and those which hae been commited. "
   ]
  },
  {
   "cell_type": "markdown",
   "id": "4d36e11e",
   "metadata": {},
   "source": [
    "`git add fastqc_files.py` followed by `git commit` is used to keep these changes."
   ]
  },
  {
   "cell_type": "markdown",
   "id": "1c5ebcf9",
   "metadata": {},
   "source": [
    "`git log` is used to view the record of your commit history. \n",
    "\n",
    "Mine shows:\n",
    "***\n",
    "\n",
    "    commit 85083a78ba02634595b3fd97bb4c32d74d54107d (HEAD -> master)\n",
    "Author: Clodagh Murray <clodaghmurray1@gmail.com>\n",
    "Date:   Wed Nov 24 15:09:26 2021 +0000\n",
    "\n",
    "    Second commit with one change to fastqc_files.py\n",
    "\n",
    "commit 9250eb4a02834b2363dfdc007156d72484179ca8\n",
    "Author: Clodagh Murray <clodaghmurray1@gmail.com>\n",
    "Date:   Wed Nov 24 14:44:35 2021 +0000\n",
    "\n",
    "    Adding initial version of FastQC code\n",
    "***"
   ]
  },
  {
   "cell_type": "markdown",
   "id": "8c9d6f03",
   "metadata": {},
   "source": [
    "### Sharing your code"
   ]
  },
  {
   "cell_type": "markdown",
   "id": "823330d6",
   "metadata": {},
   "source": [
    "I created a 'Thesis' repository on my online github account. \n",
    "\n",
    "`git remote add origin https://github.com/ClodaghMurray/Thesis` links my local Git repository with my online Github repository "
   ]
  },
  {
   "cell_type": "markdown",
   "id": "10d804ef",
   "metadata": {},
   "source": [
    "`git push origin master` pushes all of my commits to my online repository"
   ]
  },
  {
   "cell_type": "markdown",
   "id": "1d661e71",
   "metadata": {},
   "source": [
    "This step asks for a username and password - where the access token is entered as password."
   ]
  },
  {
   "cell_type": "markdown",
   "id": "db032a61",
   "metadata": {},
   "source": [
    "Here is the link to my Github account: https://github.com/ClodaghMurray/Thesis"
   ]
  }
 ],
 "metadata": {
  "kernelspec": {
   "display_name": "Python 3 (ipykernel)",
   "language": "python",
   "name": "python3"
  },
  "language_info": {
   "codemirror_mode": {
    "name": "ipython",
    "version": 3
   },
   "file_extension": ".py",
   "mimetype": "text/x-python",
   "name": "python",
   "nbconvert_exporter": "python",
   "pygments_lexer": "ipython3",
   "version": "3.8.10"
  }
 },
 "nbformat": 4,
 "nbformat_minor": 5
}
